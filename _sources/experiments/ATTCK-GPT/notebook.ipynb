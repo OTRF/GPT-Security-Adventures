{
 "cells": [
  {
   "attachments": {},
   "cell_type": "markdown",
   "metadata": {},
   "source": [
    "# Retrieval Augmented Generation (RAG)​ and ATT&CK Groups\n",
    "References:\n",
    "* https://python.langchain.com/en/latest/modules/indexes/getting_started.html"
   ]
  },
  {
   "attachments": {},
   "cell_type": "markdown",
   "metadata": {},
   "source": [
    "## Create ATT&CK Groups Knowledge Base"
   ]
  },
  {
   "attachments": {},
   "cell_type": "markdown",
   "metadata": {},
   "source": [
    "### Import Modules and Define Variables"
   ]
  },
  {
   "cell_type": "code",
   "execution_count": 1,
   "metadata": {},
   "outputs": [],
   "source": [
    "from attackcti import attack_client\n",
    "import os\n",
    "import logging\n",
    "\n",
    "logging.getLogger('taxii2client').setLevel(logging.CRITICAL)"
   ]
  },
  {
   "cell_type": "code",
   "execution_count": 2,
   "metadata": {},
   "outputs": [],
   "source": [
    "# Define a few variables\n",
    "current_directory = os.path.dirname(\"__file__\")\n",
    "knowledge_directory = os.path.join(current_directory, \"knowledge\")\n",
    "db_directory = os.path.join(current_directory, \"db\")\n",
    "templates_directory = os.path.join(current_directory, \"templates\")\n",
    "group_template = os.path.join(templates_directory, \"group.md\")"
   ]
  },
  {
   "attachments": {},
   "cell_type": "markdown",
   "metadata": {},
   "source": [
    "### Initialize ATT&CK Client"
   ]
  },
  {
   "cell_type": "code",
   "execution_count": 3,
   "metadata": {},
   "outputs": [],
   "source": [
    "lift = attack_client()"
   ]
  },
  {
   "attachments": {},
   "cell_type": "markdown",
   "metadata": {},
   "source": [
    "### Get ATT&CK Groups Knowledge\n",
    "Gettings technique STIX objects used by all groups accross all ATT&CK matrices.."
   ]
  },
  {
   "cell_type": "code",
   "execution_count": 4,
   "metadata": {},
   "outputs": [
    {
     "data": {
      "text/plain": [
       "{'type': 'intrusion-set',\n",
       " 'id': 'intrusion-set--b7f627e2-0817-4cd5-8d50-e75f8aa85cc6',\n",
       " 'created_by_ref': 'identity--c78cb6e5-0c4b-4611-8297-d1b8b55e40b5',\n",
       " 'created': '2023-02-23T15:31:38.829Z',\n",
       " 'modified': '2023-04-17T21:49:16.371Z',\n",
       " 'name': 'LuminousMoth',\n",
       " 'description': '[LuminousMoth](https://attack.mitre.org/groups/G1014) is a Chinese-speaking cyber espionage group that has been active since at least October 2020. [LuminousMoth](https://attack.mitre.org/groups/G1014) has targeted high-profile organizations, including government entities, in Myanmar, the Philippines, Thailand, and other parts of Southeast Asia. Some security researchers have concluded there is a connection between [LuminousMoth](https://attack.mitre.org/groups/G1014) and [Mustang Panda](https://attack.mitre.org/groups/G0129) based on similar targeting and TTPs, as well as network infrastructure overlaps.(Citation: Kaspersky LuminousMoth July 2021)(Citation: Bitdefender LuminousMoth July 2021)',\n",
       " 'aliases': ['LuminousMoth'],\n",
       " 'external_references': [{'source_name': 'mitre-attack',\n",
       "   'url': 'https://attack.mitre.org/groups/G1014',\n",
       "   'external_id': 'G1014'},\n",
       "  {'source_name': 'Bitdefender LuminousMoth July 2021',\n",
       "   'description': 'Botezatu, B and etl. (2021, July 21). LuminousMoth - PlugX, File Exfiltration and Persistence Revisited. Retrieved October 20, 2022.',\n",
       "   'url': 'https://www.bitdefender.com/blog/labs/luminousmoth-plugx-file-exfiltration-and-persistence-revisited'},\n",
       "  {'source_name': 'Kaspersky LuminousMoth July 2021',\n",
       "   'description': 'Lechtik, M, and etl. (2021, July 14). LuminousMoth APT: Sweeping attacks for the chosen few. Retrieved October 20, 2022.',\n",
       "   'url': 'https://securelist.com/apt-luminousmoth/103332/'}],\n",
       " 'object_marking_refs': ['marking-definition--fa42a846-8d90-4e51-bc29-71d5b4802168'],\n",
       " 'x_mitre_attack_spec_version': '3.1.0',\n",
       " 'x_mitre_contributors': ['Kyaw Pyiyt Htet, @KyawPyiytHtet',\n",
       "  'Zaw Min Htun, @Z3TAE'],\n",
       " 'x_mitre_deprecated': False,\n",
       " 'x_mitre_domains': ['enterprise-attack'],\n",
       " 'x_mitre_modified_by_ref': 'identity--c78cb6e5-0c4b-4611-8297-d1b8b55e40b5',\n",
       " 'x_mitre_version': '1.0',\n",
       " 'technique_ref': 'attack-pattern--32901740-b42c-4fdd-bc02-345b5dc57082',\n",
       " 'relationship_description': '[LuminousMoth](https://attack.mitre.org/groups/G1014) has signed their malware with a valid digital signature.(Citation: Kaspersky LuminousMoth July 2021)',\n",
       " 'relationship_id': 'relationship--eb4ce173-6f0e-4c12-9ff8-09c4fb1ae2d3',\n",
       " 'revoked': False,\n",
       " 'technique': 'Code Signing',\n",
       " 'technique_description': 'Adversaries may create, acquire, or steal code signing materials to sign their malware or tools. Code signing provides a level of authenticity on a binary from the developer and a guarantee that the binary has not been tampered with. (Citation: Wikipedia Code Signing) The certificates used during an operation may be created, acquired, or stolen by the adversary. (Citation: Securelist Digital Certificates) (Citation: Symantec Digital Certificates) Unlike [Invalid Code Signature](https://attack.mitre.org/techniques/T1036/001), this activity will result in a valid signature.\\n\\nCode signing to verify software on first run can be used on modern Windows and macOS systems. It is not used on Linux due to the decentralized nature of the platform. (Citation: Wikipedia Code Signing)(Citation: EclecticLightChecksonEXECodeSigning)\\n\\nCode signing certificates may be used to bypass security policies that require signed code to execute on a system. ',\n",
       " 'tactic': [KillChainPhase(kill_chain_name='mitre-attack', phase_name='defense-evasion')],\n",
       " 'technique_id': 'T1553.002',\n",
       " 'matrix': 'mitre-attack',\n",
       " 'platform': ['macOS', 'Windows'],\n",
       " 'data_sources': ['File: File Metadata']}"
      ]
     },
     "execution_count": 4,
     "metadata": {},
     "output_type": "execute_result"
    }
   ],
   "source": [
    "techniques_used_by_groups = lift.get_techniques_used_by_all_groups()\n",
    "techniques_used_by_groups[0]"
   ]
  },
  {
   "attachments": {},
   "cell_type": "markdown",
   "metadata": {},
   "source": [
    "### Create ATT&CK Groups Documents"
   ]
  },
  {
   "cell_type": "code",
   "execution_count": 5,
   "metadata": {},
   "outputs": [
    {
     "name": "stdout",
     "output_type": "stream",
     "text": [
      "[+] Creating markadown files for each group..\n",
      "  [>>] Creating markdown file for LuminousMoth..\n",
      "  [>>] Creating markdown file for Metador..\n",
      "  [>>] Creating markdown file for CURIUM..\n",
      "  [>>] Creating markdown file for EXOTIC LILY..\n",
      "  [>>] Creating markdown file for Moses Staff..\n",
      "  [>>] Creating markdown file for SideCopy..\n",
      "  [>>] Creating markdown file for Aoqin Dragon..\n",
      "  [>>] Creating markdown file for Earth Lusca..\n",
      "  [>>] Creating markdown file for POLONIUM..\n",
      "  [>>] Creating markdown file for LAPSUS$..\n",
      "  [>>] Creating markdown file for Ember Bear..\n",
      "  [>>] Creating markdown file for BITTER..\n",
      "  [>>] Creating markdown file for Aquatic Panda..\n",
      "  [>>] Creating markdown file for Confucius..\n",
      "  [>>] Creating markdown file for LazyScripter..\n",
      "  [>>] Creating markdown file for TeamTNT..\n",
      "  [>>] Creating markdown file for Andariel..\n",
      "  [>>] Creating markdown file for Ferocious Kitten..\n",
      "  [>>] Creating markdown file for IndigoZebra..\n",
      "  [>>] Creating markdown file for BackdoorDiplomacy..\n",
      "  [>>] Creating markdown file for Transparent Tribe..\n",
      "  [>>] Creating markdown file for Nomadic Octopus..\n",
      "  [>>] Creating markdown file for Tonto Team..\n",
      "  [>>] Creating markdown file for Ajax Security Team..\n",
      "  [>>] Creating markdown file for Mustang Panda..\n",
      "  [>>] Creating markdown file for ZIRCONIUM..\n",
      "  [>>] Creating markdown file for TA551..\n",
      "  [>>] Creating markdown file for Higaisa..\n",
      "  [>>] Creating markdown file for HAFNIUM..\n",
      "  [>>] Creating markdown file for Windigo..\n",
      "  [>>] Creating markdown file for Volatile Cedar..\n",
      "  [>>] Creating markdown file for Silent Librarian..\n",
      "  [>>] Creating markdown file for Sidewinder..\n",
      "  [>>] Creating markdown file for Evilnum..\n",
      "  [>>] Creating markdown file for Indrik Spider..\n",
      "  [>>] Creating markdown file for Fox Kitten..\n",
      "  [>>] Creating markdown file for GOLD SOUTHFIELD..\n",
      "  [>>] Creating markdown file for Chimera..\n",
      "  [>>] Creating markdown file for Windshift..\n",
      "  [>>] Creating markdown file for Blue Mockingbird..\n",
      "  [>>] Creating markdown file for Whitefly..\n",
      "  [>>] Creating markdown file for Rocke..\n",
      "  [>>] Creating markdown file for DarkVishnya..\n",
      "  [>>] Creating markdown file for Mofang..\n",
      "  [>>] Creating markdown file for Wizard Spider..\n",
      "  [>>] Creating markdown file for Inception..\n",
      "  [>>] Creating markdown file for APT-C-36..\n",
      "  [>>] Creating markdown file for BlackTech..\n",
      "  [>>] Creating markdown file for APT41..\n",
      "  [>>] Creating markdown file for Machete..\n",
      "  [>>] Creating markdown file for Kimsuky..\n",
      "  [>>] Creating markdown file for GALLIUM..\n",
      "  [>>] Creating markdown file for TA505..\n",
      "  [>>] Creating markdown file for Silence..\n",
      "  [>>] Creating markdown file for WIRTE..\n",
      "  [>>] Creating markdown file for The White Company..\n",
      "  [>>] Creating markdown file for TEMP.Veles..\n",
      "  [>>] Creating markdown file for APT39..\n",
      "  [>>] Creating markdown file for FIN4..\n",
      "  [>>] Creating markdown file for Gallmaker..\n",
      "  [>>] Creating markdown file for SilverTerrier..\n",
      "  [>>] Creating markdown file for APT38..\n",
      "  [>>] Creating markdown file for Tropic Trooper..\n",
      "  [>>] Creating markdown file for HEXANE..\n",
      "  [>>] Creating markdown file for DarkHydrus..\n",
      "  [>>] Creating markdown file for APT19..\n",
      "  [>>] Creating markdown file for Cobalt Group..\n",
      "  [>>] Creating markdown file for Orangeworm..\n",
      "  [>>] Creating markdown file for Thrip..\n",
      "  [>>] Creating markdown file for Gorgon Group..\n",
      "  [>>] Creating markdown file for Rancor..\n",
      "  [>>] Creating markdown file for Dark Caracal..\n",
      "  [>>] Creating markdown file for Leafminer..\n",
      "  [>>] Creating markdown file for Leviathan..\n",
      "  [>>] Creating markdown file for Elderwood..\n",
      "  [>>] Creating markdown file for BlackOasis..\n",
      "  [>>] Creating markdown file for FIN8..\n",
      "  [>>] Creating markdown file for APT33..\n",
      "  [>>] Creating markdown file for PLATINUM..\n",
      "  [>>] Creating markdown file for TA459..\n",
      "  [>>] Creating markdown file for APT37..\n",
      "  [>>] Creating markdown file for MuddyWater..\n",
      "  [>>] Creating markdown file for Magic Hound..\n",
      "  [>>] Creating markdown file for FIN5..\n",
      "  [>>] Creating markdown file for PROMETHIUM..\n",
      "  [>>] Creating markdown file for CopyKittens..\n",
      "  [>>] Creating markdown file for BRONZE BUTLER..\n",
      "  [>>] Creating markdown file for Sowbug..\n",
      "  [>>] Creating markdown file for APT32..\n",
      "  [>>] Creating markdown file for FIN10..\n",
      "  [>>] Creating markdown file for OilRig..\n",
      "  [>>] Creating markdown file for RTM..\n",
      "  [>>] Creating markdown file for Gamaredon Group..\n",
      "  [>>] Creating markdown file for FIN7..\n",
      "  [>>] Creating markdown file for menuPass..\n",
      "  [>>] Creating markdown file for Winnti Group..\n",
      "  [>>] Creating markdown file for Group5..\n",
      "  [>>] Creating markdown file for Strider..\n",
      "  [>>] Creating markdown file for Patchwork..\n",
      "  [>>] Creating markdown file for Suckfly..\n",
      "  [>>] Creating markdown file for Stealth Falcon..\n",
      "  [>>] Creating markdown file for FIN6..\n",
      "  [>>] Creating markdown file for GCMAN..\n",
      "  [>>] Creating markdown file for Dragonfly..\n",
      "  [>>] Creating markdown file for Sandworm Team..\n",
      "  [>>] Creating markdown file for Poseidon Group..\n",
      "  [>>] Creating markdown file for Lazarus Group..\n",
      "  [>>] Creating markdown file for Scarlet Mimic..\n",
      "  [>>] Creating markdown file for Threat Group-1314..\n",
      "  [>>] Creating markdown file for Threat Group-3390..\n",
      "  [>>] Creating markdown file for APT18..\n",
      "  [>>] Creating markdown file for APT17..\n",
      "  [>>] Creating markdown file for Putter Panda..\n",
      "  [>>] Creating markdown file for APT16..\n",
      "  [>>] Creating markdown file for APT3..\n",
      "  [>>] Creating markdown file for Molerats..\n",
      "  [>>] Creating markdown file for Equation..\n",
      "  [>>] Creating markdown file for Naikon..\n",
      "  [>>] Creating markdown file for admin@338..\n",
      "  [>>] Creating markdown file for APT29..\n",
      "  [>>] Creating markdown file for APT30..\n",
      "  [>>] Creating markdown file for Darkhotel..\n",
      "  [>>] Creating markdown file for PittyTiger..\n",
      "  [>>] Creating markdown file for Turla..\n",
      "  [>>] Creating markdown file for Deep Panda..\n",
      "  [>>] Creating markdown file for Carbanak..\n",
      "  [>>] Creating markdown file for APT28..\n",
      "  [>>] Creating markdown file for APT1..\n",
      "  [>>] Creating markdown file for APT12..\n",
      "  [>>] Creating markdown file for Ke3chang..\n",
      "  [>>] Creating markdown file for Cleaver..\n",
      "  [>>] Creating markdown file for Moafee..\n",
      "  [>>] Creating markdown file for Axiom..\n",
      "  [>>] Creating markdown file for ALLANITE..\n"
     ]
    }
   ],
   "source": [
    "import copy\n",
    "from jinja2 import Template\n",
    "\n",
    "# Create Group docs\n",
    "all_groups = dict()\n",
    "for technique in techniques_used_by_groups:\n",
    "    if technique['id'] not in all_groups:\n",
    "        group = dict()\n",
    "        group['group_name'] = technique['name']\n",
    "        group['group_id'] = technique['external_references'][0]['external_id']\n",
    "        group['created'] = technique['created']\n",
    "        group['modified'] = technique['modified']\n",
    "        group['description'] = technique['description']\n",
    "        group['aliases'] = technique['aliases']\n",
    "        if 'x_mitre_contributors' in technique:\n",
    "            group['contributors'] = technique['x_mitre_contributors']\n",
    "        group['techniques'] = []\n",
    "        all_groups[technique['id']] = group\n",
    "    technique_used = dict()\n",
    "    technique_used['matrix'] = technique['matrix']\n",
    "    technique_used['domain'] = technique['x_mitre_domains']\n",
    "    technique_used['platform'] = technique['platform']\n",
    "    technique_used['tactics'] = technique['tactic']\n",
    "    technique_used['technique_id'] = technique['technique_id']\n",
    "    technique_used['technique_name'] = technique['technique']\n",
    "    technique_used['use'] = technique['relationship_description']\n",
    "    if 'data_sources' in technique:\n",
    "        technique_used['data_sources'] = technique['data_sources']\n",
    "    all_groups[technique['id']]['techniques'].append(technique_used)\n",
    "\n",
    "if not os.path.exists(knowledge_directory):\n",
    "   print(\"[+] Creating knowledge directory..\")\n",
    "   os.makedirs(knowledge_directory)\n",
    "\n",
    "print(\"[+] Creating markadown files for each group..\")\n",
    "markdown_template = Template(open(group_template).read())\n",
    "for key in list(all_groups.keys()):\n",
    "    group = all_groups[key]\n",
    "    print(\"  [>>] Creating markdown file for {}..\".format(group['group_name']))\n",
    "    group_for_render = copy.deepcopy(group)\n",
    "    markdown = markdown_template.render(metadata=group_for_render, group_name=group['group_name'], group_id=group['group_id'])\n",
    "    file_name = (group['group_name']).replace(' ','_')\n",
    "    open(f'{knowledge_directory}/{file_name}.md', encoding='utf-8', mode='w').write(markdown)"
   ]
  },
  {
   "attachments": {},
   "cell_type": "markdown",
   "metadata": {},
   "source": [
    "## Generate Knowledge Base Embeddings"
   ]
  },
  {
   "attachments": {},
   "cell_type": "markdown",
   "metadata": {},
   "source": [
    "### Load Documents"
   ]
  },
  {
   "cell_type": "code",
   "execution_count": 6,
   "metadata": {},
   "outputs": [],
   "source": [
    "import glob\n",
    "from langchain.document_loaders import UnstructuredMarkdownLoader"
   ]
  },
  {
   "cell_type": "code",
   "execution_count": 7,
   "metadata": {},
   "outputs": [
    {
     "name": "stdout",
     "output_type": "stream",
     "text": [
      "[+] Loading Group markdown files..\n",
      " [*] Loading admin@338.md\n",
      " [*] Loading Ajax_Security_Team.md\n",
      " [*] Loading ALLANITE.md\n",
      " [*] Loading Andariel.md\n",
      " [*] Loading Aoqin_Dragon.md\n",
      " [*] Loading APT-C-36.md\n",
      " [*] Loading APT1.md\n",
      " [*] Loading APT12.md\n",
      " [*] Loading APT16.md\n",
      " [*] Loading APT17.md\n",
      " [*] Loading APT18.md\n",
      " [*] Loading APT19.md\n",
      " [*] Loading APT28.md\n",
      " [*] Loading APT29.md\n",
      " [*] Loading APT3.md\n",
      " [*] Loading APT30.md\n",
      " [*] Loading APT32.md\n",
      " [*] Loading APT33.md\n",
      " [*] Loading APT37.md\n",
      " [*] Loading APT38.md\n",
      " [*] Loading APT39.md\n",
      " [*] Loading APT41.md\n",
      " [*] Loading Aquatic_Panda.md\n",
      " [*] Loading Axiom.md\n",
      " [*] Loading BackdoorDiplomacy.md\n",
      " [*] Loading BITTER.md\n",
      " [*] Loading BlackOasis.md\n",
      " [*] Loading BlackTech.md\n",
      " [*] Loading Blue_Mockingbird.md\n",
      " [*] Loading BRONZE_BUTLER.md\n",
      " [*] Loading Carbanak.md\n",
      " [*] Loading Chimera.md\n",
      " [*] Loading Cleaver.md\n",
      " [*] Loading Cobalt_Group.md\n",
      " [*] Loading Confucius.md\n",
      " [*] Loading CopyKittens.md\n",
      " [*] Loading CURIUM.md\n",
      " [*] Loading Darkhotel.md\n",
      " [*] Loading DarkHydrus.md\n",
      " [*] Loading DarkVishnya.md\n",
      " [*] Loading Dark_Caracal.md\n",
      " [*] Loading Deep_Panda.md\n",
      " [*] Loading Dragonfly.md\n",
      " [*] Loading Earth_Lusca.md\n",
      " [*] Loading Elderwood.md\n",
      " [*] Loading Ember_Bear.md\n",
      " [*] Loading Equation.md\n",
      " [*] Loading Evilnum.md\n",
      " [*] Loading EXOTIC_LILY.md\n",
      " [*] Loading Ferocious_Kitten.md\n",
      " [*] Loading FIN10.md\n",
      " [*] Loading FIN4.md\n",
      " [*] Loading FIN5.md\n",
      " [*] Loading FIN6.md\n",
      " [*] Loading FIN7.md\n",
      " [*] Loading FIN8.md\n",
      " [*] Loading Fox_Kitten.md\n",
      " [*] Loading GALLIUM.md\n",
      " [*] Loading Gallmaker.md\n",
      " [*] Loading Gamaredon_Group.md\n",
      " [*] Loading GCMAN.md\n",
      " [*] Loading GOLD_SOUTHFIELD.md\n",
      " [*] Loading Gorgon_Group.md\n",
      " [*] Loading Group5.md\n",
      " [*] Loading HAFNIUM.md\n",
      " [*] Loading HEXANE.md\n",
      " [*] Loading Higaisa.md\n",
      " [*] Loading Inception.md\n",
      " [*] Loading IndigoZebra.md\n",
      " [*] Loading Indrik_Spider.md\n",
      " [*] Loading Ke3chang.md\n",
      " [*] Loading Kimsuky.md\n",
      " [*] Loading LAPSUS$.md\n",
      " [*] Loading Lazarus_Group.md\n",
      " [*] Loading LazyScripter.md\n",
      " [*] Loading Leafminer.md\n",
      " [*] Loading Leviathan.md\n",
      " [*] Loading LuminousMoth.md\n",
      " [*] Loading Machete.md\n",
      " [*] Loading Magic_Hound.md\n",
      " [*] Loading menuPass.md\n",
      " [*] Loading Metador.md\n",
      " [*] Loading Moafee.md\n",
      " [*] Loading Mofang.md\n",
      " [*] Loading Molerats.md\n",
      " [*] Loading Moses_Staff.md\n",
      " [*] Loading MuddyWater.md\n",
      " [*] Loading Mustang_Panda.md\n",
      " [*] Loading Naikon.md\n",
      " [*] Loading Nomadic_Octopus.md\n",
      " [*] Loading OilRig.md\n",
      " [*] Loading Orangeworm.md\n",
      " [*] Loading Patchwork.md\n",
      " [*] Loading PittyTiger.md\n",
      " [*] Loading PLATINUM.md\n",
      " [*] Loading POLONIUM.md\n",
      " [*] Loading Poseidon_Group.md\n",
      " [*] Loading PROMETHIUM.md\n",
      " [*] Loading Putter_Panda.md\n",
      " [*] Loading Rancor.md\n",
      " [*] Loading Rocke.md\n",
      " [*] Loading RTM.md\n",
      " [*] Loading Sandworm_Team.md\n",
      " [*] Loading Scarlet_Mimic.md\n",
      " [*] Loading SideCopy.md\n",
      " [*] Loading Sidewinder.md\n",
      " [*] Loading Silence.md\n",
      " [*] Loading Silent_Librarian.md\n",
      " [*] Loading SilverTerrier.md\n",
      " [*] Loading Sowbug.md\n",
      " [*] Loading Stealth_Falcon.md\n",
      " [*] Loading Strider.md\n",
      " [*] Loading Suckfly.md\n",
      " [*] Loading TA459.md\n",
      " [*] Loading TA505.md\n",
      " [*] Loading TA551.md\n",
      " [*] Loading TeamTNT.md\n",
      " [*] Loading TEMP.Veles.md\n",
      " [*] Loading The_White_Company.md\n",
      " [*] Loading Threat_Group-1314.md\n",
      " [*] Loading Threat_Group-3390.md\n",
      " [*] Loading Thrip.md\n",
      " [*] Loading Tonto_Team.md\n",
      " [*] Loading Transparent_Tribe.md\n",
      " [*] Loading Tropic_Trooper.md\n",
      " [*] Loading Turla.md\n",
      " [*] Loading Volatile_Cedar.md\n",
      " [*] Loading Whitefly.md\n",
      " [*] Loading Windigo.md\n",
      " [*] Loading Windshift.md\n",
      " [*] Loading Winnti_Group.md\n",
      " [*] Loading WIRTE.md\n",
      " [*] Loading Wizard_Spider.md\n",
      " [*] Loading ZIRCONIUM.md\n",
      "[+] Number of .md documents processed: 134\n"
     ]
    }
   ],
   "source": [
    "# variables\n",
    "group_files = glob.glob(os.path.join(knowledge_directory, \"*.md\"))\n",
    "\n",
    "# Loading Markdown files\n",
    "md_docs = []\n",
    "print(\"[+] Loading Group markdown files..\")\n",
    "for group in group_files:\n",
    "    print(f' [*] Loading {os.path.basename(group)}')\n",
    "    loader = UnstructuredMarkdownLoader(group)\n",
    "    md_docs.extend(loader.load())\n",
    "\n",
    "print(f'[+] Number of .md documents processed: {len(md_docs)}')"
   ]
  },
  {
   "cell_type": "markdown",
   "metadata": {},
   "source": [
    "Check a doc page content"
   ]
  },
  {
   "cell_type": "code",
   "execution_count": 8,
   "metadata": {},
   "outputs": [
    {
     "name": "stdout",
     "output_type": "stream",
     "text": [
      "admin@338 - G0018\n",
      "\n",
      "Created: 2017-05-31T21:31:53.579Z\n",
      "\n",
      "Modified: 2020-03-18T19:54:59.120Z\n",
      "\n",
      "Contributors: Tatsuya Daitoku, Cyber Defense Institute, Inc.\n",
      "\n",
      "Aliases\n",
      "\n",
      "admin@338\n",
      "\n",
      "Description\n",
      "\n",
      "admin@338 is a China-based cyber threat group. It has previously used newsworthy events as lures to deliver malware and has primarily targeted organizations involved in financial, economic, and trade policy, typically using publicly available RATs such as PoisonIvy, as well as some non-public backdoors. (Citation: FireEye admin@338)\n",
      "\n",
      "Techniques Used\n",
      "\n",
      "admin@338 has sent emails with malicious Microsoft Office documents attached.(Citation: FireEye admin@338)|\n",
      "|mitre-attack|enterprise-attack|Linux,macOS,Windows|T1204.002|Malicious File|\n",
      "\n",
      "admin@338 has attempted to get victims to launch malicious Microsoft Word attachments delivered via spearphishing emails.(Citation: FireEye admin@338)|\n",
      "|mitre-attack|enterprise-attack|Linux,Windows,macOS|T1203|Exploitation for Client Execution|\n",
      "\n",
      "admin@338 has exploited client software vulnerabilities for execution, such as Microsoft Word CVE-2012-0158.(Citation: FireEye admin@338)|\n",
      "|mitre-attack|enterprise-attack|Linux,macOS,Windows|T1087.001|Local Account|\n",
      "\n",
      "admin@338 actors used the following commands following exploitation of a machine with\n",
      "\n",
      "LOWBALL malware to enumerate user accounts:\n",
      "\n",
      "admin@338 actors used the following command to rename one of their tools to a benign file name:\n",
      "\n",
      "admin@338 actors used the following command following exploitation of a machine with\n",
      "\n",
      "LOWBALL malware to list local groups:\n",
      "\n",
      "admin@338 actors used the following commands after exploiting a machine with\n",
      "\n",
      "LOWBALL malware to obtain information about the OS:\n",
      "\n",
      "admin@338 actors used the following command after exploiting a machine with\n",
      "\n",
      "LOWBALL malware to acquire information about local networks:\n",
      "\n",
      "admin@338 actors used the following command following exploitation of a machine with\n",
      "\n",
      "LOWBALL malware to obtain information about services:\n",
      "\n",
      "admin@338 actors used the following command following exploitation of a machine with\n",
      "\n",
      "LOWBALL malware to display network connections:\n",
      "\n",
      "admin@338 actors used the following commands after exploiting a machine with\n",
      "\n",
      "LOWBALL malware to obtain information about files and directories:\n",
      "\n",
      "LOWBALL malware,\n",
      "\n",
      "admin@338 actors created a file containing a list of commands to be executed on the compromised computer.(Citation: FireEye admin@338)|\n"
     ]
    }
   ],
   "source": [
    "print(md_docs[0].page_content)"
   ]
  },
  {
   "cell_type": "markdown",
   "metadata": {},
   "source": [
    "Check token counts on loaded documents"
   ]
  },
  {
   "cell_type": "code",
   "execution_count": 9,
   "metadata": {},
   "outputs": [
    {
     "name": "stdout",
     "output_type": "stream",
     "text": [
      "\n",
      "token count: 532 tokens\n",
      "token integers: [2953, 31, 18633, 482, 480, 4119, 23, 271, 11956, 25, 220, 679, 22, 12, 2304, 12, 2148, 51, 1691, 25, 2148, 25, 4331, 13, 24847, 57, 271, 19696, 25, 220, 2366, 15, 12, 2839, 12, 972, 51, 777, 25, 4370, 25, 2946, 13, 4364, 57, 271, 54084, 9663, 25, 350, 1900, 45644, 423, 1339, 16900, 11, 34711, 16777, 10181, 11, 4953, 382, 96309, 271, 2953, 31, 18633, 271, 5116, 271, 2953, 31, 18633, 374, 264, 5734, 6108, 21516, 6023, 1912, 13, 1102, 706, 8767, 1511, 502, 2332, 34594, 4455, 439, 326, 1439, 311, 6493, 40831, 323, 706, 15871, 17550, 11351, 6532, 304, 6020, 11, 7100, 11, 323, 6696, 4947, 11, 11383, 1701, 17880, 2561, 98980, 82, 1778, 439, 52212, 40, 14029, 11, 439, 1664, 439, 1063, 2536, 57571, 1203, 28404, 13, 320, 34, 7709, 25, 6785, 51158, 4074, 31, 18633, 696, 29356, 8467, 12477, 271, 2953, 31, 18633, 706, 3288, 14633, 449, 39270, 5210, 8410, 9477, 12673, 13127, 34, 7709, 25, 6785, 51158, 4074, 31, 18633, 8, 7511, 91, 1800, 265, 12, 21208, 91, 79034, 12, 21208, 91, 47424, 11, 12214, 3204, 11, 13466, 91, 51, 4364, 19, 13, 6726, 91, 30700, 9824, 2958, 44838, 2953, 31, 18633, 706, 17644, 311, 636, 12697, 311, 7195, 39270, 5210, 9506, 34779, 12886, 4669, 41963, 764, 11218, 14633, 13127, 34, 7709, 25, 6785, 51158, 4074, 31, 18633, 8, 7511, 91, 1800, 265, 12, 21208, 91, 79034, 12, 21208, 91, 47424, 11, 13466, 11, 12214, 3204, 91, 51, 4364, 18, 91, 8193, 385, 7709, 369, 8589, 32028, 44838, 2953, 31, 18633, 706, 51763, 3016, 3241, 52227, 369, 11572, 11, 1778, 439, 5210, 9506, 46869, 12, 679, 17, 12, 16037, 23, 13127, 34, 7709, 25, 6785, 51158, 4074, 31, 18633, 8, 7511, 91, 1800, 265, 12, 21208, 91, 79034, 12, 21208, 91, 47424, 11, 12214, 3204, 11, 13466, 91, 51, 6640, 22, 13, 4119, 91, 7469, 8785, 44838, 2953, 31, 18633, 20142, 1511, 279, 2768, 11545, 2768, 40761, 315, 264, 5780, 449, 271, 9628, 79580, 40831, 311, 13555, 1217, 9815, 1473, 2953, 31, 18633, 20142, 1511, 279, 2768, 3290, 311, 30174, 832, 315, 872, 7526, 311, 264, 65309, 1052, 836, 1473, 2953, 31, 18633, 20142, 1511, 279, 2768, 3290, 2768, 40761, 315, 264, 5780, 449, 271, 9628, 79580, 40831, 311, 1160, 2254, 5315, 1473, 2953, 31, 18633, 20142, 1511, 279, 2768, 11545, 1306, 71701, 264, 5780, 449, 271, 9628, 79580, 40831, 311, 6994, 2038, 922, 279, 10293, 1473, 2953, 31, 18633, 20142, 1511, 279, 2768, 3290, 1306, 71701, 264, 5780, 449, 271, 9628, 79580, 40831, 311, 21953, 2038, 922, 2254, 14488, 1473, 2953, 31, 18633, 20142, 1511, 279, 2768, 3290, 2768, 40761, 315, 264, 5780, 449, 271, 9628, 79580, 40831, 311, 6994, 2038, 922, 3600, 1473, 2953, 31, 18633, 20142, 1511, 279, 2768, 3290, 2768, 40761, 315, 264, 5780, 449, 271, 9628, 79580, 40831, 311, 3113, 4009, 13537, 1473, 2953, 31, 18633, 20142, 1511, 279, 2768, 11545, 1306, 71701, 264, 5780, 449, 271, 9628, 79580, 40831, 311, 6994, 2038, 922, 3626, 323, 29725, 1473, 9628, 79580, 40831, 3638, 2953, 31, 18633, 20142, 3549, 264, 1052, 8649, 264, 1160, 315, 11545, 311, 387, 16070, 389, 279, 44500, 6500, 13127, 34, 7709, 25, 6785, 51158, 4074, 31, 18633, 18419]\n",
      "token bytes: [b'admin', b'@', b'338', b' -', b' G', b'001', b'8', b'\\n\\n', b'Created', b':', b' ', b'201', b'7', b'-', b'05', b'-', b'31', b'T', b'21', b':', b'31', b':', b'53', b'.', b'579', b'Z', b'\\n\\n', b'Modified', b':', b' ', b'202', b'0', b'-', b'03', b'-', b'18', b'T', b'19', b':', b'54', b':', b'59', b'.', b'120', b'Z', b'\\n\\n', b'Contrib', b'utors', b':', b' T', b'ats', b'uya', b' D', b'ait', b'oku', b',', b' Cyber', b' Defense', b' Institute', b',', b' Inc', b'.\\n\\n', b'Aliases', b'\\n\\n', b'admin', b'@', b'338', b'\\n\\n', b'Description', b'\\n\\n', b'admin', b'@', b'338', b' is', b' a', b' China', b'-based', b' cyber', b' threat', b' group', b'.', b' It', b' has', b' previously', b' used', b' new', b'sw', b'orthy', b' events', b' as', b' l', b'ures', b' to', b' deliver', b' malware', b' and', b' has', b' primarily', b' targeted', b' organizations', b' involved', b' in', b' financial', b',', b' economic', b',', b' and', b' trade', b' policy', b',', b' typically', b' using', b' publicly', b' available', b' RAT', b's', b' such', b' as', b' Poison', b'I', b'vy', b',', b' as', b' well', b' as', b' some', b' non', b'-public', b' back', b'doors', b'.', b' (', b'C', b'itation', b':', b' Fire', b'Eye', b' admin', b'@', b'338', b')\\n\\n', b'Techn', b'iques', b' Used', b'\\n\\n', b'admin', b'@', b'338', b' has', b' sent', b' emails', b' with', b' malicious', b' Microsoft', b' Office', b' documents', b' attached', b'.(', b'C', b'itation', b':', b' Fire', b'Eye', b' admin', b'@', b'338', b')', b'|\\n', b'|', b'mit', b're', b'-', b'attack', b'|', b'enterprise', b'-', b'attack', b'|', b'Linux', b',', b'mac', b'OS', b',', b'Windows', b'|', b'T', b'120', b'4', b'.', b'002', b'|', b'Mal', b'icious', b' File', b'|\\n\\n', b'admin', b'@', b'338', b' has', b' attempted', b' to', b' get', b' victims', b' to', b' launch', b' malicious', b' Microsoft', b' Word', b' attachments', b' delivered', b' via', b' spear', b'ph', b'ishing', b' emails', b'.(', b'C', b'itation', b':', b' Fire', b'Eye', b' admin', b'@', b'338', b')', b'|\\n', b'|', b'mit', b're', b'-', b'attack', b'|', b'enterprise', b'-', b'attack', b'|', b'Linux', b',', b'Windows', b',', b'mac', b'OS', b'|', b'T', b'120', b'3', b'|', b'Exp', b'lo', b'itation', b' for', b' Client', b' Execution', b'|\\n\\n', b'admin', b'@', b'338', b' has', b' exploited', b' client', b' software', b' vulnerabilities', b' for', b' execution', b',', b' such', b' as', b' Microsoft', b' Word', b' CVE', b'-', b'201', b'2', b'-', b'015', b'8', b'.(', b'C', b'itation', b':', b' Fire', b'Eye', b' admin', b'@', b'338', b')', b'|\\n', b'|', b'mit', b're', b'-', b'attack', b'|', b'enterprise', b'-', b'attack', b'|', b'Linux', b',', b'mac', b'OS', b',', b'Windows', b'|', b'T', b'108', b'7', b'.', b'001', b'|', b'Local', b' Account', b'|\\n\\n', b'admin', b'@', b'338', b' actors', b' used', b' the', b' following', b' commands', b' following', b' exploitation', b' of', b' a', b' machine', b' with', b'\\n\\n', b'LOW', b'BALL', b' malware', b' to', b' enumerate', b' user', b' accounts', b':\\n\\n', b'admin', b'@', b'338', b' actors', b' used', b' the', b' following', b' command', b' to', b' rename', b' one', b' of', b' their', b' tools', b' to', b' a', b' benign', b' file', b' name', b':\\n\\n', b'admin', b'@', b'338', b' actors', b' used', b' the', b' following', b' command', b' following', b' exploitation', b' of', b' a', b' machine', b' with', b'\\n\\n', b'LOW', b'BALL', b' malware', b' to', b' list', b' local', b' groups', b':\\n\\n', b'admin', b'@', b'338', b' actors', b' used', b' the', b' following', b' commands', b' after', b' exploiting', b' a', b' machine', b' with', b'\\n\\n', b'LOW', b'BALL', b' malware', b' to', b' obtain', b' information', b' about', b' the', b' OS', b':\\n\\n', b'admin', b'@', b'338', b' actors', b' used', b' the', b' following', b' command', b' after', b' exploiting', b' a', b' machine', b' with', b'\\n\\n', b'LOW', b'BALL', b' malware', b' to', b' acquire', b' information', b' about', b' local', b' networks', b':\\n\\n', b'admin', b'@', b'338', b' actors', b' used', b' the', b' following', b' command', b' following', b' exploitation', b' of', b' a', b' machine', b' with', b'\\n\\n', b'LOW', b'BALL', b' malware', b' to', b' obtain', b' information', b' about', b' services', b':\\n\\n', b'admin', b'@', b'338', b' actors', b' used', b' the', b' following', b' command', b' following', b' exploitation', b' of', b' a', b' machine', b' with', b'\\n\\n', b'LOW', b'BALL', b' malware', b' to', b' display', b' network', b' connections', b':\\n\\n', b'admin', b'@', b'338', b' actors', b' used', b' the', b' following', b' commands', b' after', b' exploiting', b' a', b' machine', b' with', b'\\n\\n', b'LOW', b'BALL', b' malware', b' to', b' obtain', b' information', b' about', b' files', b' and', b' directories', b':\\n\\n', b'LOW', b'BALL', b' malware', b',\\n\\n', b'admin', b'@', b'338', b' actors', b' created', b' a', b' file', b' containing', b' a', b' list', b' of', b' commands', b' to', b' be', b' executed', b' on', b' the', b' compromised', b' computer', b'.(', b'C', b'itation', b':', b' Fire', b'Eye', b' admin', b'@', b'338', b')|']\n"
     ]
    }
   ],
   "source": [
    "import tiktoken\n",
    "\n",
    "tokenizer = tiktoken.encoding_for_model('gpt-3.5-turbo')\n",
    "token_integers = tokenizer.encode(md_docs[0].page_content, disallowed_special=())\n",
    "num_tokens = len(token_integers)\n",
    "token_bytes = [tokenizer.decode_single_token_bytes(token) for token in token_integers]\n",
    "print()\n",
    "print(f\"token count: {num_tokens} tokens\")\n",
    "print(f\"token integers: {token_integers}\")\n",
    "print(f\"token bytes: {token_bytes}\")"
   ]
  },
  {
   "cell_type": "code",
   "execution_count": 10,
   "metadata": {},
   "outputs": [
    {
     "name": "stdout",
     "output_type": "stream",
     "text": [
      "[+] Token Counts:\n",
      "Min: 176\n",
      "Avg: 1619\n",
      "Max: 7346\n"
     ]
    }
   ],
   "source": [
    "# create the length function\n",
    "def tiktoken_len(text):\n",
    "    tokens = tokenizer.encode(\n",
    "        text,\n",
    "        disallowed_special=() #To disable this check for all special tokens\n",
    "    )\n",
    "    return len(tokens)\n",
    "\n",
    "# Get token counts\n",
    "token_counts = [tiktoken_len(doc.page_content) for doc in md_docs]\n",
    "\n",
    "print(f\"\"\"[+] Token Counts:\n",
    "Min: {min(token_counts)}\n",
    "Avg: {int(sum(token_counts) / len(token_counts))}\n",
    "Max: {max(token_counts)}\"\"\")"
   ]
  },
  {
   "attachments": {},
   "cell_type": "markdown",
   "metadata": {},
   "source": [
    "### Split Documents"
   ]
  },
  {
   "cell_type": "code",
   "execution_count": 11,
   "metadata": {},
   "outputs": [],
   "source": [
    "from langchain.text_splitter import RecursiveCharacterTextSplitter"
   ]
  },
  {
   "cell_type": "code",
   "execution_count": 12,
   "metadata": {},
   "outputs": [
    {
     "name": "stdout",
     "output_type": "stream",
     "text": [
      "[+] Initializing RecursiveCharacterTextSplitter..\n"
     ]
    }
   ],
   "source": [
    "# Chunking Text\n",
    "print('[+] Initializing RecursiveCharacterTextSplitter..')\n",
    "text_splitter = RecursiveCharacterTextSplitter(\n",
    "    chunk_size=500,\n",
    "    chunk_overlap=50,  # number of tokens overlap between chunks\n",
    "    length_function=tiktoken_len,\n",
    "    separators=['\\n\\n', '\\n', ' ', '']\n",
    ")"
   ]
  },
  {
   "cell_type": "code",
   "execution_count": 13,
   "metadata": {},
   "outputs": [
    {
     "name": "stdout",
     "output_type": "stream",
     "text": [
      "[+] Splitting documents in chunks..\n",
      "[+] Number of documents: 134\n",
      "[+] Number of chunks: 534\n"
     ]
    }
   ],
   "source": [
    "print('[+] Splitting documents in chunks..')\n",
    "chunks = text_splitter.split_documents(md_docs)\n",
    "\n",
    "print(f'[+] Number of documents: {len(md_docs)}')\n",
    "print(f'[+] Number of chunks: {len(chunks)}')"
   ]
  },
  {
   "cell_type": "code",
   "execution_count": 14,
   "metadata": {},
   "outputs": [
    {
     "name": "stdout",
     "output_type": "stream",
     "text": [
      "page_content='admin@338 - G0018\\n\\nCreated: 2017-05-31T21:31:53.579Z\\n\\nModified: 2020-03-18T19:54:59.120Z\\n\\nContributors: Tatsuya Daitoku, Cyber Defense Institute, Inc.\\n\\nAliases\\n\\nadmin@338\\n\\nDescription\\n\\nadmin@338 is a China-based cyber threat group. It has previously used newsworthy events as lures to deliver malware and has primarily targeted organizations involved in financial, economic, and trade policy, typically using publicly available RATs such as PoisonIvy, as well as some non-public backdoors. (Citation: FireEye admin@338)\\n\\nTechniques Used\\n\\nadmin@338 has sent emails with malicious Microsoft Office documents attached.(Citation: FireEye admin@338)|\\n|mitre-attack|enterprise-attack|Linux,macOS,Windows|T1204.002|Malicious File|\\n\\nadmin@338 has attempted to get victims to launch malicious Microsoft Word attachments delivered via spearphishing emails.(Citation: FireEye admin@338)|\\n|mitre-attack|enterprise-attack|Linux,Windows,macOS|T1203|Exploitation for Client Execution|\\n\\nadmin@338 has exploited client software vulnerabilities for execution, such as Microsoft Word CVE-2012-0158.(Citation: FireEye admin@338)|\\n|mitre-attack|enterprise-attack|Linux,macOS,Windows|T1087.001|Local Account|\\n\\nadmin@338 actors used the following commands following exploitation of a machine with\\n\\nLOWBALL malware to enumerate user accounts:\\n\\nadmin@338 actors used the following command to rename one of their tools to a benign file name:\\n\\nadmin@338 actors used the following command following exploitation of a machine with\\n\\nLOWBALL malware to list local groups:\\n\\nadmin@338 actors used the following commands after exploiting a machine with\\n\\nLOWBALL malware to obtain information about the OS:\\n\\nadmin@338 actors used the following command after exploiting a machine with\\n\\nLOWBALL malware to acquire information about local networks:\\n\\nadmin@338 actors used the following command following exploitation of a machine with\\n\\nLOWBALL malware to obtain information about services:\\n\\nadmin@338 actors used the following command following exploitation of a machine with\\n\\nLOWBALL malware to display network connections:\\n\\nadmin@338 actors used the following commands after exploiting a machine with' metadata={'source': 'knowledge\\\\admin@338.md'}\n",
      "page_content='LOWBALL malware to obtain information about services:\\n\\nadmin@338 actors used the following command following exploitation of a machine with\\n\\nLOWBALL malware to display network connections:\\n\\nadmin@338 actors used the following commands after exploiting a machine with\\n\\nLOWBALL malware to obtain information about files and directories:\\n\\nLOWBALL malware,\\n\\nadmin@338 actors created a file containing a list of commands to be executed on the compromised computer.(Citation: FireEye admin@338)|' metadata={'source': 'knowledge\\\\admin@338.md'}\n"
     ]
    }
   ],
   "source": [
    "print(chunks[0])\n",
    "print(chunks[1])"
   ]
  },
  {
   "cell_type": "markdown",
   "metadata": {},
   "source": [
    "We can contribute this!"
   ]
  },
  {
   "cell_type": "code",
   "execution_count": 17,
   "metadata": {},
   "outputs": [],
   "source": [
    "import hashlib\n",
    "\n",
    "json_documents = []\n",
    "m = hashlib.md5()\n",
    "for doc in md_docs:\n",
    "    doc_name = os.path.basename(doc.metadata['source'])\n",
    "    m.update(doc_name.encode('utf-8'))\n",
    "    uid = m.hexdigest()[:12]\n",
    "    chunks_strings = text_splitter.split_text(doc.page_content)\n",
    "    for i, chunk in enumerate(chunks_strings):\n",
    "        # Add JSON object to array\n",
    "        json_documents.append({\n",
    "            'id': f'{uid}-{i}',\n",
    "            'text': chunk,\n",
    "            'source': doc_name\n",
    "        })"
   ]
  },
  {
   "cell_type": "code",
   "execution_count": 18,
   "metadata": {},
   "outputs": [
    {
     "name": "stdout",
     "output_type": "stream",
     "text": [
      "{'id': '4d1ab63e9fd8-0', 'text': 'admin@338 - G0018\\n\\nCreated: 2017-05-31T21:31:53.579Z\\n\\nModified: 2020-03-18T19:54:59.120Z\\n\\nContributors: Tatsuya Daitoku, Cyber Defense Institute, Inc.\\n\\nAliases\\n\\nadmin@338\\n\\nDescription\\n\\nadmin@338 is a China-based cyber threat group. It has previously used newsworthy events as lures to deliver malware and has primarily targeted organizations involved in financial, economic, and trade policy, typically using publicly available RATs such as PoisonIvy, as well as some non-public backdoors. (Citation: FireEye admin@338)\\n\\nTechniques Used\\n\\nadmin@338 has sent emails with malicious Microsoft Office documents attached.(Citation: FireEye admin@338)|\\n|mitre-attack|enterprise-attack|Linux,macOS,Windows|T1204.002|Malicious File|\\n\\nadmin@338 has attempted to get victims to launch malicious Microsoft Word attachments delivered via spearphishing emails.(Citation: FireEye admin@338)|\\n|mitre-attack|enterprise-attack|Linux,Windows,macOS|T1203|Exploitation for Client Execution|\\n\\nadmin@338 has exploited client software vulnerabilities for execution, such as Microsoft Word CVE-2012-0158.(Citation: FireEye admin@338)|\\n|mitre-attack|enterprise-attack|Linux,macOS,Windows|T1087.001|Local Account|\\n\\nadmin@338 actors used the following commands following exploitation of a machine with\\n\\nLOWBALL malware to enumerate user accounts:\\n\\nadmin@338 actors used the following command to rename one of their tools to a benign file name:\\n\\nadmin@338 actors used the following command following exploitation of a machine with\\n\\nLOWBALL malware to list local groups:\\n\\nadmin@338 actors used the following commands after exploiting a machine with\\n\\nLOWBALL malware to obtain information about the OS:\\n\\nadmin@338 actors used the following command after exploiting a machine with\\n\\nLOWBALL malware to acquire information about local networks:\\n\\nadmin@338 actors used the following command following exploitation of a machine with\\n\\nLOWBALL malware to obtain information about services:\\n\\nadmin@338 actors used the following command following exploitation of a machine with\\n\\nLOWBALL malware to display network connections:\\n\\nadmin@338 actors used the following commands after exploiting a machine with', 'source': 'admin@338.md'}\n",
      "{'id': '4d1ab63e9fd8-1', 'text': 'LOWBALL malware to obtain information about services:\\n\\nadmin@338 actors used the following command following exploitation of a machine with\\n\\nLOWBALL malware to display network connections:\\n\\nadmin@338 actors used the following commands after exploiting a machine with\\n\\nLOWBALL malware to obtain information about files and directories:\\n\\nLOWBALL malware,\\n\\nadmin@338 actors created a file containing a list of commands to be executed on the compromised computer.(Citation: FireEye admin@338)|', 'source': 'admin@338.md'}\n"
     ]
    }
   ],
   "source": [
    "print(json_documents[0])\n",
    "print(json_documents[1])"
   ]
  },
  {
   "attachments": {},
   "cell_type": "markdown",
   "metadata": {},
   "source": [
    "### Export Knowledge Base as JSONL File (Optional)"
   ]
  },
  {
   "cell_type": "code",
   "execution_count": 19,
   "metadata": {},
   "outputs": [
    {
     "name": "stdout",
     "output_type": "stream",
     "text": [
      "[+] Exporting groups as .jsonl file..\n"
     ]
    }
   ],
   "source": [
    "import json\n",
    "\n",
    "if not os.path.exists(db_directory):\n",
    "   print('[+] Creating database directory..')\n",
    "   os.makedirs(db_directory)\n",
    "\n",
    "print(f'[+] Exporting groups as .jsonl file..')\n",
    "with open(f'{os.path.join(db_directory, \"attack-groups.jsonl\")}', 'w') as f:\n",
    "    for doc in json_documents:\n",
    "        f.write(json.dumps(doc) + '\\n')"
   ]
  },
  {
   "attachments": {},
   "cell_type": "markdown",
   "metadata": {},
   "source": [
    "### Generate Embeddings"
   ]
  },
  {
   "cell_type": "code",
   "execution_count": 52,
   "metadata": {},
   "outputs": [],
   "source": [
    "from langchain.embeddings.openai import OpenAIEmbeddings\n",
    "from langchain.vectorstores import FAISS\n",
    "import openai\n",
    "import os\n",
    "from dotenv import load_dotenv"
   ]
  },
  {
   "cell_type": "code",
   "execution_count": 53,
   "metadata": {},
   "outputs": [],
   "source": [
    "# Get your key: https://platform.openai.com/account/api-keys\n",
    "load_dotenv()\n",
    "openai.api_key = os.getenv(\"OPENAI_API_KEY\")"
   ]
  },
  {
   "cell_type": "code",
   "execution_count": 65,
   "metadata": {},
   "outputs": [
    {
     "name": "stdout",
     "output_type": "stream",
     "text": [
      "[+] Starting embedding..\n",
      "[+] Sending chunks to OpenAI Embeddings API..\n"
     ]
    }
   ],
   "source": [
    "print(\"[+] Starting embedding..\")\n",
    "embeddings = OpenAIEmbeddings()\n",
    "\n",
    "# Send text chunks to OpenAI Embeddings API\n",
    "print(\"[+] Sending chunks to OpenAI Embeddings API..\")\n",
    "db = FAISS.from_documents(chunks, embeddings)"
   ]
  },
  {
   "cell_type": "markdown",
   "metadata": {},
   "source": [
    "### Create Database Pickle File (Optional)"
   ]
  },
  {
   "cell_type": "code",
   "execution_count": 67,
   "metadata": {},
   "outputs": [
    {
     "name": "stdout",
     "output_type": "stream",
     "text": [
      "[+] Create Pickle file..\n"
     ]
    }
   ],
   "source": [
    "import pickle\n",
    "import os\n",
    "\n",
    "current_directory = os.path.dirname(\"__file__\")\n",
    "db_directory = os.path.join(current_directory, \"db\")\n",
    "db_file = os.path.join(db_directory,\"db.pkl\")\n",
    "\n",
    "# Save vectorstore\n",
    "print(\"[+] Create Pickle file..\")\n",
    "with open(db_file, \"wb\") as f:\n",
    "    pickle.dump(db, f)"
   ]
  },
  {
   "cell_type": "markdown",
   "metadata": {},
   "source": [
    "You can then load it like this"
   ]
  },
  {
   "cell_type": "code",
   "execution_count": 21,
   "metadata": {},
   "outputs": [
    {
     "name": "stdout",
     "output_type": "stream",
     "text": [
      "<class 'langchain.vectorstores.faiss.FAISS'>\n"
     ]
    }
   ],
   "source": [
    "import pickle\n",
    "\n",
    "db_file = os.path.join(db_directory,\"db.pkl\")\n",
    "\n",
    "if os.path.exists(db_file):\n",
    "    with open(db_file, \"rb\") as f:\n",
    "        db = pickle.load(f)\n",
    "\n",
    "print(type(db))"
   ]
  },
  {
   "attachments": {},
   "cell_type": "markdown",
   "metadata": {},
   "source": [
    "## Query ATT&CK Groups Knowledge Base"
   ]
  },
  {
   "attachments": {},
   "cell_type": "markdown",
   "metadata": {},
   "source": [
    "### Initialize OpenAI (Optional)"
   ]
  },
  {
   "cell_type": "code",
   "execution_count": 22,
   "metadata": {},
   "outputs": [],
   "source": [
    "from dotenv import load_dotenv\n",
    "import openai\n",
    "\n",
    "# Get your key: https://platform.openai.com/account/api-keys\n",
    "load_dotenv()\n",
    "openai.api_key = os.getenv(\"OPENAI_API_KEY\")"
   ]
  },
  {
   "attachments": {},
   "cell_type": "markdown",
   "metadata": {},
   "source": [
    "### Define Vector Store Retriever\n",
    "The retriever interface is a generic interface that makes it easy to combine documents with language models. This interface exposes a get_relevant_documents method which takes in a query (a string) and returns a list of documents."
   ]
  },
  {
   "cell_type": "code",
   "execution_count": 30,
   "metadata": {},
   "outputs": [],
   "source": [
    "retriever = db.as_retriever(search_kwargs={\"k\":5})"
   ]
  },
  {
   "attachments": {},
   "cell_type": "markdown",
   "metadata": {},
   "source": [
    "### Get Relevant Documents"
   ]
  },
  {
   "cell_type": "markdown",
   "metadata": {},
   "source": [
    "#### Phishings Techniques used by Threat Actors"
   ]
  },
  {
   "cell_type": "code",
   "execution_count": 70,
   "metadata": {},
   "outputs": [],
   "source": [
    "query = \"What are some phishing techniques used by threat actors?\""
   ]
  },
  {
   "cell_type": "code",
   "execution_count": 71,
   "metadata": {},
   "outputs": [
    {
     "name": "stdout",
     "output_type": "stream",
     "text": [
      "[+] Getting relevant documents for query..\n"
     ]
    },
    {
     "data": {
      "text/plain": [
       "[Document(page_content='TA505 has used spearphishing emails with malicious attachments to initially compromise victims.(Citation: Proofpoint TA505 Sep 2017)(Citation: Proofpoint TA505 June 2018)(Citation: Proofpoint TA505 Jan 2019)(Citation: Cybereason TA505 April 2019)(Citation: ProofPoint SettingContent-ms July 2018)(Citation: Proofpoint TA505 Mar 2018)(Citation: Trend Micro TA505 June 2019)(Citation: Proofpoint TA505 October 2019)(Citation: IBM TA505 April 2020)|', metadata={'source': 'knowledge\\\\TA505.md'}),\n",
       " Document(page_content='Nomadic Octopus has targeted victims with spearphishing emails containing malicious attachments.(Citation: Security Affairs DustSquad Oct 2018)(Citation: ESET Nomadic Octopus 2018)|', metadata={'source': 'knowledge\\\\Nomadic_Octopus.md'}),\n",
       " Document(page_content=\"APT33 utilized PowerShell scripts to establish command and control and install files for execution. (Citation: Symantec March 2019) (Citation: Dragos)|\\n|mitre-attack|enterprise-attack,ics-attack|Engineering Workstation,Human-Machine Interface,Control Server,Data Historian|T0865|Spearphishing Attachment|\\n\\nAPT33 sent spear phishing emails containing links to HTML application files, which were embedded with malicious code. (Citation: Jacqueline O'Leary et al. September 2017)\\n\\nAPT33 has conducted targeted spear phishing campaigns against U.S. government agencies and private sector companies. (Citation: Andy Greenburg June 2019)|\", metadata={'source': 'knowledge\\\\APT33.md'}),\n",
       " Document(page_content='APT39 has maintained persistence using the startup folder.(Citation: FireEye APT39 Jan 2019)|\\n|mitre-attack|enterprise-attack|Linux,macOS,Windows,Office 365,SaaS,Google Workspace|T1566.002|Spearphishing Link|\\n\\nAPT39 leveraged spearphishing emails with malicious links to initially compromise victims.(Citation: FireEye APT39 Jan 2019)(Citation: FBI FLASH APT39 September 2020)|\\n|mitre-attack|enterprise-attack|macOS,Windows,Linux|T1566.001|Spearphishing Attachment|\\n\\nAPT39 leveraged spearphishing emails with malicious attachments to initially compromise victims.(Citation: FireEye APT39 Jan 2019)(Citation: Symantec Chafer February 2018)(Citation: FBI FLASH APT39 September 2020)|', metadata={'source': 'knowledge\\\\APT39.md'}),\n",
       " Document(page_content='DarkHydrus leveraged PowerShell to download and execute additional scripts for execution.(Citation: Unit 42 DarkHydrus July 2018)(Citation: Unit 42 Playbook Dec 2017)|\\n|mitre-attack|enterprise-attack|macOS,Windows,Linux|T1566.001|Spearphishing Attachment|\\n\\nDarkHydrus has sent spearphishing emails with password-protected RAR archives containing malicious Excel Web Query files (.iqy). The group has also sent spearphishing emails that contained malicious Microsoft Office documents that use the “attachedTemplate” technique to load a template from a remote server.(Citation: Unit 42 DarkHydrus July 2018)(Citation: Unit 42 Phishery Aug 2018)(Citation: Unit 42 Playbook Dec 2017)|', metadata={'source': 'knowledge\\\\DarkHydrus.md'}),\n",
       " Document(page_content='APT29 has used spearphishing with a link to trick victims into clicking on a link to a zip file containing malicious files.(Citation: Mandiant No Easy Breach)(Citation: MSTIC NOBELIUM May 2021)(Citation: Secureworks IRON RITUAL USAID Phish May 2021)|\\n|mitre-attack|enterprise-attack|Linux,macOS,Windows|T1204.002|Malicious File|\\n\\nAPT29 has used various forms of spearphishing attempting to get a user to open attachments, including, but not limited to, malicious Microsoft Word documents, .pdf, and .lnk files. (Citation: F-Secure The Dukes)(Citation: ESET T3 Threat Report 2021)(Citation: Secureworks IRON HEMLOCK Profile)|\\n|mitre-attack|enterprise-attack|Linux,macOS,Windows|T1090.004|Domain Fronting|\\n\\nAPT29 has used the meek domain fronting plugin for\\n\\nTor to hide the destination of C2 traffic.(Citation: Mandiant No Easy Breach)|\\n|mitre-attack|enterprise-attack|Linux,macOS,Windows,Network|T1090.003|Multi-hop Proxy|A backdoor used by\\n\\nAPT29 created a\\n\\nTor hidden service to forward traffic from the\\n\\nTor client to local ports 3389 (RDP), 139 (Netbios), and 445 (SMB) enabling full remote access from outside the network and has also used TOR.(Citation: Mandiant No Easy Breach)(Citation: MSTIC Nobelium Oct 2021)|\\n|mitre-attack|enterprise-attack|Windows|T1548.002|Bypass User Account Control|\\n\\nAPT29 has bypassed UAC.(Citation: Mandiant No Easy Breach)|\\n|mitre-attack|enterprise-attack|Windows|T1047|Windows Management Instrumentation|\\n\\nAPT29 used WMI to steal credentials and execute backdoors at a future time.(Citation: Mandiant No Easy Breach)|\\n|mitre-attack|enterprise-attack|macOS,Windows,Linux|T1027.002|Software Packing|', metadata={'source': 'knowledge\\\\APT29.md'}),\n",
       " Document(page_content=\"Techniques Used\\n\\nAPT29 has used residential proxies, including Azure Virtual Machines, to obfuscate their access to victim environments.(Citation: Mandiant APT29 Microsoft 365 2022)|\\n|mitre-attack|enterprise-attack|Office 365,Windows,Google Workspace|T1114.002|Remote Email Collection|\\n\\nAPT29 has collected emails from targeted mailboxes within a compromised Azure AD tenant.(Citation: Mandiant APT29 Microsoft 365 2022)|\\n|mitre-attack|enterprise-attack|Windows,Office 365,Google Workspace|T1098.002|Additional Email Delegate Permissions|\\n\\nAPT29 has used a compromised global administrator account in Azure AD to backdoor a service principal with\\n\\nAPT29 has gained access to a global administrator account in Azure AD.(Citation: Mandiant APT29 Microsoft 365 2022)|\\n|mitre-attack|enterprise-attack|Windows,Azure AD,Office 365,SaaS,IaaS,Linux,macOS,Google Workspace,Containers,Network|T1078|Valid Accounts|\\n\\nAPT29 has used a compromised account to access an organization's VPN infrastructure.(Citation: Mandiant APT29 Microsoft 365 2022)|\\n|mitre-attack|enterprise-attack|Azure AD,Windows,SaaS|T1098.005|Device Registration|\\n\\nAPT29 has enrolled a device in MFA to an Azure AD environment following a successful password guessing attack against a dormant account.(Citation: Mandiant APT29 Microsoft 365 2022)|\\n|mitre-attack|enterprise-attack|Windows,Azure AD,Office 365,SaaS,IaaS,Linux,macOS,Google Workspace,Containers,Network|T1110.001|Password Guessing|\\n\\nAPT29 has successfully conducted password guessing attacks against a list of mailboxes.(Citation: Mandiant APT29 Microsoft 365 2022)|\\n|mitre-attack|enterprise-attack|Windows,macOS,Linux,Containers,IaaS|T1562.001|Disable or Modify Tools|\", metadata={'source': 'knowledge\\\\APT29.md'}),\n",
       " Document(page_content='Threat Group-3390 actors have used\\n\\ngsecdump to dump credentials. They have also dumped credentials from domain controllers.(Citation: Dell TG-3390)(Citation: SecureWorks BRONZE UNION June 2017)|\\n|mitre-attack|enterprise-attack|Windows,macOS,Linux,Network|T1056.001|Keylogging|\\n\\nThreat Group-3390 actors installed a credential logger on Microsoft Exchange servers.\\n\\nThreat Group-3390 also leveraged the reconnaissance framework, ScanBox, to capture keystrokes.(Citation: Dell TG-3390)(Citation: Hacker News LuckyMouse June 2018)(Citation: Securelist LuckyMouse June 2018)|', metadata={'source': 'knowledge\\\\Threat_Group-3390.md'}),\n",
       " Document(page_content='Inception has used a reconnaissance module to gather information about the operating system and hardware on the infected host.(Citation: Symantec Inception Framework March 2018)|\\n|mitre-attack|enterprise-attack|macOS,Windows,Linux|T1566.001|Spearphishing Attachment|\\n\\nInception has used weaponized documents attached to spearphishing emails for reconnaissance and initial compromise.(Citation: Kaspersky Cloud Atlas December 2014)(Citation: Symantec Inception Framework March 2018)(Citation: Unit 42 Inception November 2018)(Citation: Kaspersky Cloud Atlas August 2019)|', metadata={'source': 'knowledge\\\\Inception.md'}),\n",
       " Document(page_content='Magic Hound has attempted to lure victims into opening malicious email attachments.(Citation: ClearSky Kittens Back 3 August 2020)|\\n|mitre-attack|enterprise-attack|PRE|T1585.001|Social Media Accounts|\\n\\nMagic Hound has created fake LinkedIn and other social media accounts to contact targets and convince them--through messages and voice communications--to open malicious links.(Citation: ClearSky Kittens Back 3 August 2020)|\\n|mitre-attack|enterprise-attack|PRE|T1584.001|Domains|\\n\\nMagic Hound has used compromised domains to host links targeted to specific phishing victims.(Citation: ClearSky Kittens Back 3 August 2020)(Citation: Proofpoint TA453 July2021)(Citation: Certfa Charming Kitten January 2021)(Citation: Google Iran Threats October 2021)|\\n|mitre-attack|enterprise-attack|PRE|T1583.001|Domains|\\n\\nMagic Hound has registered fraudulent domains such as \"mail-newyorker.com\" and \"news12.com.recover-session-service.site\" to target specific victims with phishing attacks.(Citation: Certfa Charming Kitten January 2021)|\\n|mitre-attack|enterprise-attack|PRE|T1598.003|Spearphishing Link|\\n\\nMagic Hound has used SMS and email messages with links designed to steal credentials or track victims.(Citation: Certfa Charming Kitten January 2021)(Citation: ClearSky Kittens Back 3 August 2020)(Citation: Proofpoint TA453 March 2021)(Citation: Proofpoint TA453 July2021)(Citation: Google Iran Threats October 2021)(Citation: Microsoft Iranian Threat Actor Trends November 2021)|\\n|mitre-attack|enterprise-attack|Windows,Office 365,Google Workspace,macOS,Linux|T1114|Email Collection|\\n\\nMagic Hound has compromised email credentials in order to steal sensitive data.(Citation: Certfa Charming Kitten January 2021)|\\n|mitre-attack|enterprise-attack|PRE|T1586.002|Email Accounts|', metadata={'source': 'knowledge\\\\Magic_Hound.md'})]"
      ]
     },
     "execution_count": 71,
     "metadata": {},
     "output_type": "execute_result"
    }
   ],
   "source": [
    "print(\"[+] Getting relevant documents for query..\")\n",
    "relevant_docs = retriever.get_relevant_documents(query)\n",
    "relevant_docs"
   ]
  },
  {
   "attachments": {},
   "cell_type": "markdown",
   "metadata": {},
   "source": [
    "#### Question Answering"
   ]
  },
  {
   "cell_type": "code",
   "execution_count": 28,
   "metadata": {},
   "outputs": [],
   "source": [
    "from langchain.chains.question_answering import load_qa_chain\n",
    "from langchain.llms import OpenAI"
   ]
  },
  {
   "cell_type": "code",
   "execution_count": 73,
   "metadata": {},
   "outputs": [
    {
     "data": {
      "text/plain": [
       "' Threat actors have used spearphishing emails with malicious attachments, malicious links, password-protected RAR archives containing malicious Excel Web Query files (.iqy), malicious Microsoft Office documents that use the “attachedTemplate” technique to load a template from a remote server, links to HTML application files embedded with malicious code, and SMS and email messages with links designed to steal credentials or track victims.'"
      ]
     },
     "execution_count": 73,
     "metadata": {},
     "output_type": "execute_result"
    }
   ],
   "source": [
    "chain = load_qa_chain(OpenAI(temperature=0), chain_type=\"stuff\")\n",
    "chain.run(input_documents=relevant_docs, question=query)"
   ]
  },
  {
   "cell_type": "markdown",
   "metadata": {},
   "source": [
    "#### Cloud Administration Command"
   ]
  },
  {
   "cell_type": "code",
   "execution_count": 34,
   "metadata": {},
   "outputs": [],
   "source": [
    "query = \"Tell me more about technique 'Cloud Administration Command' (T1651).\""
   ]
  },
  {
   "cell_type": "code",
   "execution_count": 35,
   "metadata": {},
   "outputs": [
    {
     "name": "stdout",
     "output_type": "stream",
     "text": [
      "[+] Getting relevant documents for query..\n"
     ]
    },
    {
     "data": {
      "text/plain": [
       "[Document(page_content='TA505 has used TinyMet to enumerate members of privileged groups.(Citation: IBM TA505 April 2020)\\n\\nTA505 has also run\\n\\nTA505 has used the tool EmailStealer to steal and send lists of e-mail addresses to a remote server.(Citation: Trend Micro TA505 June 2019)|\\n|mitre-attack|enterprise-attack|Linux,macOS,Windows|T1568.001|Fast Flux DNS|\\n\\nTA505 has used fast flux to mask botnets by distributing payloads across multiple IPs.(Citation: Trend Micro TA505 June 2019)|\\n|mitre-attack|enterprise-attack|Windows|T1059.003|Windows Command Shell|\\n\\nTA505 has executed commands using\\n\\nTA505 has used JavaScript for code execution.(Citation: Proofpoint TA505 Sep 2017)(Citation: Proofpoint TA505 June 2018)|\\n|mitre-attack|enterprise-attack|Linux,macOS,Windows|T1204.001|Malicious Link|\\n\\nTA505 has used lures to get users to click links in emails and attachments. For example,\\n\\nTA505 makes their malware look like legitimate Microsoft Word documents, .pdf and/or .lnk files. (Citation: Proofpoint TA505 Sep 2017)(Citation: Proofpoint TA505 June 2018)(Citation: Proofpoint TA505 Jan 2019)(Citation: Cybereason TA505 April 2019)(Citation: ProofPoint SettingContent-ms July 2018)(Citation: Proofpoint TA505 Mar 2018)(Citation: Trend Micro TA505 June 2019)(Citation: Proofpoint TA505 October 2019)|\\n|mitre-attack|enterprise-attack|Linux,macOS,Windows|T1555.003|Credentials from Web Browsers|\\n\\nTA505 has used malware to gather credentials from Internet Explorer.(Citation: Proofpoint TA505 Sep 2017)|\\n|mitre-attack|enterprise-attack|Linux,macOS,Windows|T1105|Ingress Tool Transfer|', metadata={'source': 'knowledge\\\\TA505.md'}),\n",
       " Document(page_content=\"Threat Group-1314 - G0028\\n\\nCreated: 2017-05-31T21:31:59.120Z\\n\\nModified: 2020-03-19T21:58:20.831Z\\n\\nContributors:\\n\\nAliases\\n\\nThreat Group-1314,TG-1314\\n\\nDescription\\n\\nThreat Group-1314 is an unattributed threat group that has used compromised credentials to log into a victim's remote access infrastructure. (Citation: Dell TG-1314)\\n\\nTechniques Used\\n\\n|Matrix|Domain|Platform|Technique ID|Technique Name|Use|\\n| :---| :---| :---| :---| :---| :---|\\n|mitre-attack|enterprise-attack|Windows|T1059.003|Windows Command Shell|Threat Group-1314 actors spawned shells on remote systems on a victim network to execute commands.(Citation: Dell TG-1314)|\\n|mitre-attack|enterprise-attack|Windows|T1021.002|SMB/Windows Admin Shares|Threat Group-1314 actors mapped network drives using net use.(Citation: Dell TG-1314)|\\n|mitre-attack|enterprise-attack|Linux,macOS,Windows|T1078.002|Domain Accounts|Threat Group-1314 actors used compromised domain credentials for the victim's endpoint management platform, Altiris, to move laterally.(Citation: Dell TG-1314)|\\n|mitre-attack|enterprise-attack|Linux,macOS,Windows|T1072|Software Deployment Tools|Threat Group-1314 actors used a victim's endpoint management platform, Altiris, for lateral movement.(Citation: Dell TG-1314)|\", metadata={'source': 'knowledge\\\\Threat_Group-1314.md'}),\n",
       " Document(page_content='TA505 has used a variety of tools in their operations, including\\n\\nAdFind,\\n\\nBloodHound,\\n\\nMimikatz, and\\n\\nPowerSploit.(Citation: NCC Group TA505)|\\n|mitre-attack|enterprise-attack|Windows,Linux,macOS|T1140|Deobfuscate/Decode Files or Information|\\n\\nTA505 has decrypted packed DLLs with an XOR key.(Citation: NCC Group TA505)|\\n|mitre-attack|enterprise-attack|Windows|T1112|Modify Registry|\\n\\nTA505 has used malware to disable Windows Defender through modification of the Registry.(Citation: Korean FSI TA505 2020)|\\n|mitre-attack|enterprise-attack|PRE|T1583.001|Domains|\\n\\nTA505 has registered domains to impersonate services such as Dropbox to distribute malware.(Citation: Korean FSI TA505 2020)|\\n|mitre-attack|enterprise-attack|Windows|T1553.005|Mark-of-the-Web Bypass|\\n\\nTA505 has used .iso files to deploy malicious .lnk files.(Citation: TrendMicro TA505 Aug 2019)|\\n|mitre-attack|enterprise-attack|Windows|T1055.001|Dynamic-link Library Injection|\\n\\nTA505 has been seen injecting a DLL into winword.exe.(Citation: IBM TA505 April 2020)|\\n|mitre-attack|enterprise-attack|Linux,macOS,Windows|T1071.001|Web Protocols|\\n\\nTA505 has used HTTP to communicate with C2 nodes.(Citation: IBM TA505 April 2020)|\\n|mitre-attack|enterprise-attack|macOS,Windows,Linux|T1027.002|Software Packing|\\n\\nTA505 has used UPX to obscure malicious code.(Citation: IBM TA505 April 2020)|\\n|mitre-attack|enterprise-attack|Linux,macOS,Windows|T1078.002|Domain Accounts|\\n\\nTA505 has used stolen domain admin accounts to compromise additional hosts.(Citation: IBM TA505 April 2020)|\\n|mitre-attack|enterprise-attack|Windows,Azure AD,Office 365,SaaS,IaaS,Linux,macOS,Google Workspace,Containers|T1069|Permission Groups Discovery|', metadata={'source': 'knowledge\\\\TA505.md'}),\n",
       " Document(page_content='TA459 - G0062\\n\\nCreated: 2018-04-18T17:59:24.739Z\\n\\nModified: 2020-03-30T19:22:32.962Z\\n\\nContributors: Valerii Marchuk, Cybersecurity Help s.r.o.\\n\\nAliases\\n\\nTA459\\n\\nDescription\\n\\nTA459 is a threat group believed to operate out of China that has targeted countries including Russia, Belarus, Mongolia, and others. (Citation: Proofpoint TA459 April 2017)\\n\\nTechniques Used\\n\\n|Matrix|Domain|Platform|Technique ID|Technique Name|Use|\\n| :---| :---| :---| :---| :---| :---|\\n|mitre-attack|enterprise-attack|Windows|T1059.001|PowerShell|TA459 has used PowerShell for execution of a payload.(Citation: Proofpoint TA459 April 2017)|\\n|mitre-attack|enterprise-attack|macOS,Windows,Linux|T1566.001|Spearphishing Attachment|TA459 has targeted victims using spearphishing emails with malicious Microsoft Word attachments.(Citation: Proofpoint TA459 April 2017)|\\n|mitre-attack|enterprise-attack|Linux,macOS,Windows|T1204.002|Malicious File|TA459 has attempted to get victims to open malicious Microsoft Word attachment sent via spearphishing.(Citation: Proofpoint TA459 April 2017)|\\n|mitre-attack|enterprise-attack|Windows,macOS,Linux|T1059.005|Visual Basic|TA459 has a VBScript for execution.(Citation: Proofpoint TA459 April 2017)|\\n|mitre-attack|enterprise-attack|Linux,Windows,macOS|T1203|Exploitation for Client Execution|TA459 has exploited Microsoft Word vulnerability CVE-2017-0199 for execution.(Citation: Proofpoint TA459 April 2017)|', metadata={'source': 'knowledge\\\\TA459.md'}),\n",
       " Document(page_content=\"APT33 utilized PowerShell scripts to establish command and control and install files for execution. (Citation: Symantec March 2019) (Citation: Dragos)|\\n|mitre-attack|enterprise-attack,ics-attack|Engineering Workstation,Human-Machine Interface,Control Server,Data Historian|T0865|Spearphishing Attachment|\\n\\nAPT33 sent spear phishing emails containing links to HTML application files, which were embedded with malicious code. (Citation: Jacqueline O'Leary et al. September 2017)\\n\\nAPT33 has conducted targeted spear phishing campaigns against U.S. government agencies and private sector companies. (Citation: Andy Greenburg June 2019)|\", metadata={'source': 'knowledge\\\\APT33.md'})]"
      ]
     },
     "execution_count": 35,
     "metadata": {},
     "output_type": "execute_result"
    }
   ],
   "source": [
    "print(\"[+] Getting relevant documents for query..\")\n",
    "relevant_docs = retriever.get_relevant_documents(query)\n",
    "relevant_docs"
   ]
  },
  {
   "cell_type": "code",
   "execution_count": 36,
   "metadata": {},
   "outputs": [
    {
     "data": {
      "text/plain": [
       "' T1651 Cloud Administration Command is a technique used by threat actors to gain access to cloud-based services and resources. This technique is often used in conjunction with other techniques such as credential dumping, spear phishing, and exploitation of cloud-based services. It can be used to gain access to cloud-based resources, such as virtual machines, storage, and databases, as well as to execute commands on cloud-based systems.'"
      ]
     },
     "execution_count": 36,
     "metadata": {},
     "output_type": "execute_result"
    }
   ],
   "source": [
    "chain = load_qa_chain(OpenAI(temperature=0), chain_type=\"stuff\")\n",
    "chain.run(input_documents=relevant_docs, question=query)"
   ]
  },
  {
   "cell_type": "code",
   "execution_count": null,
   "metadata": {},
   "outputs": [],
   "source": []
  }
 ],
 "metadata": {
  "kernelspec": {
   "display_name": "Python 3",
   "language": "python",
   "name": "python3"
  },
  "language_info": {
   "codemirror_mode": {
    "name": "ipython",
    "version": 3
   },
   "file_extension": ".py",
   "mimetype": "text/x-python",
   "name": "python",
   "nbconvert_exporter": "python",
   "pygments_lexer": "ipython3",
   "version": "3.11.3"
  }
 },
 "nbformat": 4,
 "nbformat_minor": 2
}
