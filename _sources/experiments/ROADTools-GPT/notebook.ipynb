{
 "cells": [
  {
   "attachments": {},
   "cell_type": "markdown",
   "metadata": {},
   "source": [
    "# ROADTools GPT\n",
    "Reference: https://python.langchain.com/en/latest/modules/agents/toolkits/examples/sql_database.html"
   ]
  },
  {
   "attachments": {},
   "cell_type": "markdown",
   "metadata": {},
   "source": [
    "## Import Langchain Modules"
   ]
  },
  {
   "cell_type": "code",
   "execution_count": 1,
   "metadata": {},
   "outputs": [],
   "source": [
    "from langchain.agents import create_sql_agent\n",
    "from langchain.agents.agent_toolkits import SQLDatabaseToolkit\n",
    "from langchain.sql_database import SQLDatabase\n",
    "from langchain.llms.openai import OpenAI\n",
    "from langchain.agents import AgentExecutor"
   ]
  },
  {
   "attachments": {},
   "cell_type": "markdown",
   "metadata": {},
   "source": [
    "## Initialize Agent Executor"
   ]
  },
  {
   "cell_type": "code",
   "execution_count": 11,
   "metadata": {},
   "outputs": [],
   "source": [
    "import os\n",
    "from dotenv import load_dotenv\n",
    "import openai\n",
    "\n",
    "# Get your key: https://platform.openai.com/account/api-keys\n",
    "load_dotenv()\n",
    "openai.api_key = os.getenv(\"OPENAI_API_KEY\")"
   ]
  },
  {
   "cell_type": "code",
   "execution_count": 12,
   "metadata": {},
   "outputs": [],
   "source": [
    "from langchain import OpenAI\n",
    "llm = OpenAI(temperature=0)"
   ]
  },
  {
   "cell_type": "code",
   "execution_count": 7,
   "metadata": {},
   "outputs": [],
   "source": [
    "db = SQLDatabase.from_uri(\"sqlite:///db/roadrecon.db\")"
   ]
  },
  {
   "cell_type": "code",
   "execution_count": 13,
   "metadata": {},
   "outputs": [],
   "source": [
    "toolkit = SQLDatabaseToolkit(db=db,llm=llm)"
   ]
  },
  {
   "cell_type": "code",
   "execution_count": 14,
   "metadata": {},
   "outputs": [],
   "source": [
    "agent_executor = create_sql_agent(\n",
    "    llm=OpenAI(temperature=0),\n",
    "    toolkit=toolkit,\n",
    "    verbose=True\n",
    ")"
   ]
  },
  {
   "cell_type": "code",
   "execution_count": 16,
   "metadata": {},
   "outputs": [
    {
     "name": "stdout",
     "output_type": "stream",
     "text": [
      "\n",
      "\n",
      "\u001b[1m> Entering new AgentExecutor chain...\u001b[0m\n",
      "\u001b[32;1m\u001b[1;3mAction: list_tables_sql_db\n",
      "Action Input: \"\"\u001b[0m\n",
      "Observation: \u001b[38;5;200m\u001b[1;3mlnk_au_member_user, lnk_group_owner_user, Policys, lnk_au_member_group, ExtensionPropertys, Contacts, AdministrativeUnits, EligibleRoleAssignments, Users, lnk_application_owner_serviceprincipal, lnk_device_owner, RoleDefinitions, lnk_application_owner_user, lnk_group_member_group, AuthorizationPolicys, RoleAssignments, lnk_group_owner_serviceprincipal, lnk_group_member_serviceprincipal, ApplicationRefs, Groups, lnk_group_member_user, DirectoryRoles, ServicePrincipals, lnk_group_member_contact, AppRoleAssignments, Devices, lnk_serviceprincipal_owner_serviceprincipal, TenantDetails, lnk_group_member_device, lnk_au_member_device, DirectorySettings, lnk_role_member_user, lnk_serviceprincipal_owner_user, Applications, lnk_role_member_serviceprincipal, OAuth2PermissionGrants, lnk_role_member_group\u001b[0m\n",
      "Thought:\u001b[32;1m\u001b[1;3m I now know the tables in the database\n",
      "Final Answer: lnk_au_member_user, lnk_group_owner_user, Policys, lnk_au_member_group, ExtensionPropertys, Contacts, AdministrativeUnits, EligibleRoleAssignments, Users, lnk_application_owner_serviceprincipal, lnk_device_owner, RoleDefinitions, lnk_application_owner_user, lnk_group_member_group, AuthorizationPolicys, RoleAssignments, lnk_group_owner_serviceprincipal, lnk_group_member_serviceprincipal, ApplicationRefs, Groups, lnk_group_member_user, DirectoryRoles, ServicePrincipals, lnk_group_member_contact, AppRoleAssignments, Devices, lnk_serviceprincipal_owner_serviceprincipal, TenantDetails, lnk_group_member_device, lnk_au_member_device, DirectorySettings, lnk_role_member_user, lnk_serviceprincipal_owner_user, Applications\u001b[0m\n",
      "\n",
      "\u001b[1m> Finished chain.\u001b[0m\n"
     ]
    },
    {
     "data": {
      "text/plain": [
       "'lnk_au_member_user, lnk_group_owner_user, Policys, lnk_au_member_group, ExtensionPropertys, Contacts, AdministrativeUnits, EligibleRoleAssignments, Users, lnk_application_owner_serviceprincipal, lnk_device_owner, RoleDefinitions, lnk_application_owner_user, lnk_group_member_group, AuthorizationPolicys, RoleAssignments, lnk_group_owner_serviceprincipal, lnk_group_member_serviceprincipal, ApplicationRefs, Groups, lnk_group_member_user, DirectoryRoles, ServicePrincipals, lnk_group_member_contact, AppRoleAssignments, Devices, lnk_serviceprincipal_owner_serviceprincipal, TenantDetails, lnk_group_member_device, lnk_au_member_device, DirectorySettings, lnk_role_member_user, lnk_serviceprincipal_owner_user, Applications'"
      ]
     },
     "execution_count": 16,
     "metadata": {},
     "output_type": "execute_result"
    }
   ],
   "source": [
    "agent_executor.run(\"List all tables\")"
   ]
  },
  {
   "cell_type": "code",
   "execution_count": 17,
   "metadata": {},
   "outputs": [
    {
     "name": "stdout",
     "output_type": "stream",
     "text": [
      "\n",
      "\n",
      "\u001b[1m> Entering new AgentExecutor chain...\u001b[0m\n",
      "\u001b[32;1m\u001b[1;3mAction: list_tables_sql_db\n",
      "Action Input: \"\"\u001b[0m\n",
      "Observation: \u001b[38;5;200m\u001b[1;3mlnk_au_member_user, lnk_group_owner_user, Policys, lnk_au_member_group, ExtensionPropertys, Contacts, AdministrativeUnits, EligibleRoleAssignments, Users, lnk_application_owner_serviceprincipal, lnk_device_owner, RoleDefinitions, lnk_application_owner_user, lnk_group_member_group, AuthorizationPolicys, RoleAssignments, lnk_group_owner_serviceprincipal, lnk_group_member_serviceprincipal, ApplicationRefs, Groups, lnk_group_member_user, DirectoryRoles, ServicePrincipals, lnk_group_member_contact, AppRoleAssignments, Devices, lnk_serviceprincipal_owner_serviceprincipal, TenantDetails, lnk_group_member_device, lnk_au_member_device, DirectorySettings, lnk_role_member_user, lnk_serviceprincipal_owner_user, Applications, lnk_role_member_serviceprincipal, OAuth2PermissionGrants, lnk_role_member_group\u001b[0m\n",
      "Thought:\u001b[32;1m\u001b[1;3m I should look at the schema of the tables that might be relevant.\n",
      "Action: schema_sql_db\n",
      "Action Input: \"ServicePrincipals, RoleAssignments\"\u001b[0m\n",
      "Observation: \u001b[33;1m\u001b[1;3m\n",
      "CREATE TABLE \"ServicePrincipals\" (\n",
      "\t\"objectType\" TEXT, \n",
      "\t\"objectId\" TEXT NOT NULL, \n",
      "\t\"deletionTimestamp\" DATETIME, \n",
      "\t\"accountEnabled\" BOOLEAN, \n",
      "\t\"addIns\" TEXT, \n",
      "\t\"alternativeNames\" TEXT, \n",
      "\t\"appBranding\" TEXT, \n",
      "\t\"appCategory\" TEXT, \n",
      "\t\"appData\" TEXT, \n",
      "\t\"appDisplayName\" TEXT, \n",
      "\t\"appId\" TEXT, \n",
      "\t\"applicationTemplateId\" TEXT, \n",
      "\t\"appMetadata\" TEXT, \n",
      "\t\"appOwnerTenantId\" TEXT, \n",
      "\t\"appRoleAssignmentRequired\" BOOLEAN, \n",
      "\t\"appRoles\" TEXT, \n",
      "\t\"authenticationPolicy\" TEXT, \n",
      "\t\"disabledByMicrosoftStatus\" TEXT, \n",
      "\t\"displayName\" TEXT, \n",
      "\t\"errorUrl\" TEXT, \n",
      "\thomepage TEXT, \n",
      "\t\"informationalUrls\" TEXT, \n",
      "\t\"keyCredentials\" TEXT, \n",
      "\t\"logoutUrl\" TEXT, \n",
      "\t\"managedIdentityResourceId\" TEXT, \n",
      "\t\"microsoftFirstParty\" BOOLEAN, \n",
      "\t\"notificationEmailAddresses\" TEXT, \n",
      "\t\"oauth2Permissions\" TEXT, \n",
      "\t\"passwordCredentials\" TEXT, \n",
      "\t\"preferredSingleSignOnMode\" TEXT, \n",
      "\t\"preferredTokenSigningKeyEndDateTime\" DATETIME, \n",
      "\t\"preferredTokenSigningKeyThumbprint\" TEXT, \n",
      "\t\"publisherName\" TEXT, \n",
      "\t\"replyUrls\" TEXT, \n",
      "\t\"samlMetadataUrl\" TEXT, \n",
      "\t\"samlSingleSignOnSettings\" TEXT, \n",
      "\t\"servicePrincipalNames\" TEXT, \n",
      "\ttags TEXT, \n",
      "\t\"tokenEncryptionKeyId\" TEXT, \n",
      "\t\"servicePrincipalType\" TEXT, \n",
      "\t\"useCustomTokenSigningKey\" BOOLEAN, \n",
      "\t\"verifiedPublisher\" TEXT, \n",
      "\tPRIMARY KEY (\"objectId\")\n",
      ")\n",
      "\n",
      "/*\n",
      "3 rows from ServicePrincipals table:\n",
      "objectType\tobjectId\tdeletionTimestamp\taccountEnabled\taddIns\talternativeNames\tappBranding\tappCategory\tappData\tappDisplayName\tappId\tapplicationTemplateId\tappMetadata\tappOwnerTenantId\tappRoleAssignmentRequired\tappRoles\tauthenticationPolicy\tdisabledByMicrosoftStatus\tdisplayName\terrorUrl\thomepage\tinformationalUrls\tkeyCredentials\tlogoutUrl\tmanagedIdentityResourceId\tmicrosoftFirstParty\tnotificationEmailAddresses\toauth2Permissions\tpasswordCredentials\tpreferredSingleSignOnMode\tpreferredTokenSigningKeyEndDateTime\tpreferredTokenSigningKeyThumbprint\tpublisherName\treplyUrls\tsamlMetadataUrl\tsamlSingleSignOnSettings\tservicePrincipalNames\ttags\ttokenEncryptionKeyId\tservicePrincipalType\tuseCustomTokenSigningKey\tverifiedPublisher\n",
      "ServicePrincipal\t0216d9c0-cc2e-4329-a8d0-cd2ab31fb2a6\tNone\tTrue\t[]\t[]\tNone\tNone\tNone\tM365 License Manager\taeb86249-8ea3-49e2-900b-54cc8e308f85\tNone\tNone\tf8cdef31-a31e-4b4a-93e4-5f571e91255a\tFalse\t[{\"allowedMemberTypes\": [\"Application\"], \"description\": \"Enables the client to read all Licensed Pro\tNone\tNone\tM365 License Manager\tNone\tNone\t{\"termsOfService\": null, \"support\": null, \"privacy\": null, \"marketing\": null}\t[]\tNone\tNone\tTrue\t[]\t[{\"adminConsentDescription\": \"Access the M365 License Manager service as the signed-in user\", \"admin\t[]\tNone\tNone\tNone\tMicrosoft Services\t[\"https://admin.microsoft.com\", \"https://licensing.m365.microsoft.com\"]\tNone\tNone\t[\"aeb86249-8ea3-49e2-900b-54cc8e308f85\"]\t[]\tNone\tApplication\tNone\t{\"displayName\": null, \"verifiedPublisherId\": null, \"addedDateTime\": null}\n",
      "ServicePrincipal\t0286820a-b6d0-46e4-b55f-f27a29c33272\tNone\tTrue\t[]\t[]\tNone\tNone\tNone\tAzure Multi-Factor Auth Client\t981f26a1-7f43-403b-a875-f8b09b8cd720\tNone\tNone\tf8cdef31-a31e-4b4a-93e4-5f571e91255a\tFalse\t[]\tNone\tNone\tAzure Multi-Factor Auth Client\tNone\tNone\t{\"termsOfService\": null, \"support\": null, \"privacy\": null, \"marketing\": null}\t[]\tNone\tNone\tTrue\t[]\t[]\t[]\tNone\tNone\tNone\tMicrosoft Services\t[\"https://adnotifications.windowsazure.com/StrongAuthenticationService.svc/Client\"]\tNone\tNone\t[\"981f26a1-7f43-403b-a875-f8b09b8cd720\"]\t[\"disableLegacyUserImpersonationResource\", \"disableLegacyUserImpersonationClient\"]\tNone\tApplication\tNone\t{\"displayName\": null, \"verifiedPublisherId\": null, \"addedDateTime\": null}\n",
      "ServicePrincipal\t089d8835-e775-4778-9190-9b8728f3abc4\tNone\tTrue\t[]\t[]\tNone\tNone\tNone\tAzure MFA StrongAuthenticationService\tb5a60e17-278b-4c92-a4e2-b9262e66bb28\tNone\tNone\tf8cdef31-a31e-4b4a-93e4-5f571e91255a\tFalse\t[]\tNone\tNone\tAzure MFA StrongAuthenticationService\tNone\tNone\t{\"termsOfService\": null, \"support\": null, \"privacy\": null, \"marketing\": null}\t[]\tNone\tNone\tTrue\t[]\t[]\t[]\tNone\tNone\tNone\tMicrosoft Services\t[]\tNone\tNone\t[\"b5a60e17-278b-4c92-a4e2-b9262e66bb28\"]\t[]\tNone\tApplication\tNone\t{\"displayName\": null, \"verifiedPublisherId\": null, \"addedDateTime\": null}\n",
      "*/\n",
      "\n",
      "\n",
      "CREATE TABLE \"RoleAssignments\" (\n",
      "\tid TEXT NOT NULL, \n",
      "\t\"principalId\" TEXT, \n",
      "\t\"resourceScopes\" TEXT, \n",
      "\t\"roleDefinitionId\" TEXT, \n",
      "\tPRIMARY KEY (id), \n",
      "\tFOREIGN KEY(\"roleDefinitionId\") REFERENCES \"RoleDefinitions\" (\"objectId\")\n",
      ")\n",
      "\n",
      "/*\n",
      "3 rows from RoleAssignments table:\n",
      "id\tprincipalId\tresourceScopes\troleDefinitionId\n",
      "lAPpYvVpN0KRkAEhdxReEK4IFEkR7WBCsLrhSfclTPE-1\t491408ae-ed11-4260-b0ba-e149f7254cf1\t[\"/\"]\t62e90394-69f5-4237-9190-012177145e10\n",
      "lAPpYvVpN0KRkAEhdxReEImP-wOG0dRLuLevqQc4AUo-1\t03fb8f89-d186-4bd4-b8b7-afa90738014a\t[\"/\"]\t62e90394-69f5-4237-9190-012177145e10\n",
      "3ywjKSOT_UKt4h0JevPk3oiAl12BYNFJjgeHXkPpRG4-1\t5d978088-6081-49d1-8e07-875e43e9446e\t[\"/\"]\t29232cdf-9323-42fd-ade2-1d097af3e4de\n",
      "*/\u001b[0m\n",
      "Thought:"
     ]
    },
    {
     "name": "stderr",
     "output_type": "stream",
     "text": [
      "Retrying langchain.llms.openai.completion_with_retry.<locals>._completion_with_retry in 4.0 seconds as it raised RateLimitError: The server had an error while processing your request. Sorry about that!.\n"
     ]
    },
    {
     "name": "stdout",
     "output_type": "stream",
     "text": [
      "\u001b[32;1m\u001b[1;3m I should query the RoleAssignments table to get the Service Principals with AD Roles.\n",
      "Action: query_sql_db\n",
      "Action Input: SELECT ServicePrincipals.displayName, RoleDefinitions.displayName FROM ServicePrincipals INNER JOIN RoleAssignments ON ServicePrincipals.objectId = RoleAssignments.principalId INNER JOIN RoleDefinitions ON RoleAssignments.roleDefinitionId = RoleDefinitions.objectId LIMIT 10\u001b[0m\n",
      "Observation: \u001b[36;1m\u001b[1;3m[('DataSwitch', 'Exchange Administrator'), ('CloudSentry', 'Application Developer'), ('CloudMapper', 'Intune Administrator'), ('CloudFlow', 'Security Operator'), ('CloudPulse', 'Network Administrator'), ('CodePipeline', 'Attack Simulation Administrator')]\u001b[0m\n",
      "Thought:\u001b[32;1m\u001b[1;3m I now know the final answer\n",
      "Final Answer: The Service Principals with AD Roles are DataSwitch, CloudSentry, CloudMapper, CloudFlow, CloudPulse, and CodePipeline.\u001b[0m\n",
      "\n",
      "\u001b[1m> Finished chain.\u001b[0m\n"
     ]
    },
    {
     "data": {
      "text/plain": [
       "'The Service Principals with AD Roles are DataSwitch, CloudSentry, CloudMapper, CloudFlow, CloudPulse, and CodePipeline.'"
      ]
     },
     "execution_count": 17,
     "metadata": {},
     "output_type": "execute_result"
    }
   ],
   "source": [
    "agent_executor.run(\"What Service Principals have AD Roles?\")"
   ]
  },
  {
   "cell_type": "code",
   "execution_count": null,
   "metadata": {},
   "outputs": [],
   "source": []
  }
 ],
 "metadata": {
  "kernelspec": {
   "display_name": "Python 3",
   "language": "python",
   "name": "python3"
  },
  "language_info": {
   "codemirror_mode": {
    "name": "ipython",
    "version": 3
   },
   "file_extension": ".py",
   "mimetype": "text/x-python",
   "name": "python",
   "nbconvert_exporter": "python",
   "pygments_lexer": "ipython3",
   "version": "3.11.3"
  }
 },
 "nbformat": 4,
 "nbformat_minor": 2
}
