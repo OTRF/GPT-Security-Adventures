{
 "cells": [
  {
   "cell_type": "markdown",
   "metadata": {},
   "source": [
    "# Local Ollama & LiteLLM: Basic Chat Completion API\n",
    "---\n",
    "* Collaborators:\n",
    "    * Roberto Rodriguez (@Cyb3rWard0g)"
   ]
  },
  {
   "cell_type": "markdown",
   "metadata": {},
   "source": [
    "## Import Modules"
   ]
  },
  {
   "cell_type": "code",
   "execution_count": 1,
   "metadata": {},
   "outputs": [],
   "source": [
    "from openai import OpenAI"
   ]
  },
  {
   "cell_type": "markdown",
   "metadata": {},
   "source": [
    "## Initialize OpenAI Client"
   ]
  },
  {
   "cell_type": "code",
   "execution_count": 2,
   "metadata": {},
   "outputs": [],
   "source": [
    "client = OpenAI(\n",
    "    api_key=\"anything\",\n",
    "    base_url=\"http://127.0.0.1:8000\"\n",
    ")"
   ]
  },
  {
   "cell_type": "markdown",
   "metadata": {},
   "source": [
    "## Define Completion Function"
   ]
  },
  {
   "cell_type": "code",
   "execution_count": 3,
   "metadata": {},
   "outputs": [],
   "source": [
    "def get_completion(prompt, model=\"ollama/zephyr:7b-beta\"):\n",
    "    messages = [{\"role\":\"user\", \"content\":prompt}]\n",
    "    response = client.chat.completions.create(\n",
    "        model=model,\n",
    "        messages=messages\n",
    "    )\n",
    "    return response.choices[0].message.content"
   ]
  },
  {
   "cell_type": "markdown",
   "metadata": {},
   "source": [
    "## Run Prompt"
   ]
  },
  {
   "cell_type": "code",
   "execution_count": 4,
   "metadata": {},
   "outputs": [
    {
     "data": {
      "text/plain": [
       "\"Why did the tomato turn red?\\nBecause it saw the salad dressing and wanted to fit in!\\n\\nWhy don't scientists trust atoms?\\nBecause they make up everything!\\n\\nWhy do seagulls fly over the sea?\\nBecause if they flew over the land, they would be bagels!\\n\\nWhy did the chicken cross the playground?\\nTo get to the other slide!\\n\\nWhy do scarecrows work on farms all summer long but never get a tan?\\nBecause they are made of straw!\\n\\nHow does a penguin build its house?\\nIgloos it together!\\n\\nWhat do you call an alligator in a vest?\\nAn investigator!\\n\\nWhy did the coffee file a police report?\\nIt got mugged!\\n\\nWhy don't ostriches like the circus?\\nBecause of all the tightrope walkers!\\n\\nWhat does a computer wear to bed?\\nSoftware!\\n\\nWhy do elephants paint their toenails red?\\nBecause blue looks better!\\n\\nWhy did the bike fall in love with the car?\\nBecause it was two-seater!\\n\\nWhy don't scientists trust atoms?\\nBecause they make up everything!\\n\\nWhy are ghosts bad liars?\\nBecause they are easy to see through!\""
      ]
     },
     "execution_count": 4,
     "metadata": {},
     "output_type": "execute_result"
    }
   ],
   "source": [
    "get_completion(\"Tell me a Joke!\")"
   ]
  }
 ],
 "metadata": {
  "kernelspec": {
   "display_name": "Python 3 (ipykernel)",
   "language": "python",
   "name": "python3"
  },
  "language_info": {
   "codemirror_mode": {
    "name": "ipython",
    "version": 3
   },
   "file_extension": ".py",
   "mimetype": "text/x-python",
   "name": "python",
   "nbconvert_exporter": "python",
   "pygments_lexer": "ipython3",
   "version": "3.12.1"
  }
 },
 "nbformat": 4,
 "nbformat_minor": 2
}
