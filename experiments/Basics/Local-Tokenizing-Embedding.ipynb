{
 "cells": [
  {
   "cell_type": "markdown",
   "metadata": {},
   "source": [
    "# Local: Tokenizing & Embedding\n",
    "---\n",
    "* Collaborators:\n",
    "    * Roberto Rodriguez (@Cyb3rWard0g)\n",
    "* References:\n",
    "    * https://huggingface.co/docs/transformers/main/tokenizer_summary\n",
    "    * https://huggingface.co/docs/transformers/model_doc/big_bird"
   ]
  },
  {
   "cell_type": "markdown",
   "metadata": {},
   "source": [
    "## Download Data"
   ]
  },
  {
   "cell_type": "code",
   "execution_count": 56,
   "metadata": {},
   "outputs": [
    {
     "name": "stdout",
     "output_type": "stream",
     "text": [
      "File 'Microsoft365DefenderEvents.Zip' already exists in './', no need to download.\n"
     ]
    }
   ],
   "source": [
    "import os\n",
    "\n",
    "repository_url = 'https://github.com/OTRF/Security-Datasets/raw/master/datasets/compound/GoldenSAMLADFSMailAccess/Microsoft365DefenderEvents.Zip'\n",
    "output_directory = './'  # Destination directory for unzipped files\n",
    "\n",
    "# Extract the filename from the URL\n",
    "file_name = repository_url.split('/')[-1]\n",
    "\n",
    "# Check if the file already exists in the output directory\n",
    "download_required = not os.path.exists(os.path.join(output_directory, file_name))\n",
    "\n",
    "if download_required:\n",
    "    import requests\n",
    "    import zipfile\n",
    "    import io\n",
    "\n",
    "    # Download the zip file\n",
    "    response = requests.get(repository_url)\n",
    "\n",
    "    if response.status_code == 200:\n",
    "        # Create the output directory if it doesn't exist\n",
    "        if not os.path.exists(output_directory):\n",
    "            os.makedirs(output_directory)\n",
    "\n",
    "        # Unzip the downloaded file to the output directory\n",
    "        with zipfile.ZipFile(io.BytesIO(response.content), 'r') as zip_ref:\n",
    "            zip_ref.extractall(output_directory)\n",
    "\n",
    "        print(f\"Downloaded and unzipped '{file_name}' to '{output_directory}'\")\n",
    "    else:\n",
    "        print(f\"Failed to download '{file_name}' from GitHub. Status code: {response.status_code}\")\n",
    "else:\n",
    "    print(f\"File '{file_name}' already exists in '{output_directory}', no need to download.\")"
   ]
  },
  {
   "cell_type": "markdown",
   "metadata": {},
   "source": [
    "## Read Event Logs"
   ]
  },
  {
   "cell_type": "code",
   "execution_count": 31,
   "metadata": {},
   "outputs": [],
   "source": [
    "import json\n",
    "\n",
    "file_path = \"Microsoft365DefenderEvents.json\"\n",
    "\n",
    "# Open and read the JSON file\n",
    "with open(file_path, 'r') as file:\n",
    "    data = file.read()\n",
    "\n",
    "# Parse the JSON data\n",
    "json_data = [json.loads(line) for line in data.splitlines()]"
   ]
  },
  {
   "cell_type": "code",
   "execution_count": 32,
   "metadata": {},
   "outputs": [
    {
     "data": {
      "text/plain": [
       "{'Timestamp': '2021-08-02T13:32:07Z',\n",
       " 'ActionType': 'MailItemsAccessed',\n",
       " 'Application': 'Microsoft Exchange Online',\n",
       " 'ApplicationId': 20893,\n",
       " 'AccountObjectId': '5a95e683-08ad-424e-a441-1d1aec52c02c',\n",
       " 'AccountDisplayName': 'SimuLandApp',\n",
       " 'IsAdminOperation': 0,\n",
       " 'DeviceType': 'Other',\n",
       " 'OSPlatform': 'Unknown',\n",
       " 'IPAddress': '1.2.3.4',\n",
       " 'IsAnonymousProxy': 0,\n",
       " 'CountryCode': 'US',\n",
       " 'City': 'chicago',\n",
       " 'ISP': 'Microsoft 365 Common and Office Online server',\n",
       " 'UserAgent_dynamic': None,\n",
       " 'UserAgent_string': 'Client=REST;;',\n",
       " 'ActivityType': 'Run',\n",
       " 'ActivityObjects': [{'ServiceObjectType': 'Session ID',\n",
       "   'Type': 'Structured object',\n",
       "   'Role': 'Parameter'},\n",
       "  {'Type': 'Task', 'Role': 'Target object', 'Name': 'MailItemsAccessed'},\n",
       "  {'Type': 'Property',\n",
       "   'Role': 'Parameter',\n",
       "   'Name': 'MailAccessType',\n",
       "   'Value': 'Bind'},\n",
       "  {'Type': 'Property',\n",
       "   'Role': 'Parameter',\n",
       "   'Name': 'IsThrottled',\n",
       "   'Value': 'False'},\n",
       "  {'ApplicationInstance': 0,\n",
       "   'ApplicationId': 11161,\n",
       "   'Type': 'User',\n",
       "   'Role': 'Parameter',\n",
       "   'Name': 'Gustavo Pedro',\n",
       "   'Id': 'aead923d-498b-4f64-a66c-2af91447a8b6'},\n",
       "  {'ApplicationInstance': 0,\n",
       "   'ApplicationId': 11161,\n",
       "   'Type': 'Account',\n",
       "   'Role': 'Actor',\n",
       "   'Name': 'SimuLandApp',\n",
       "   'Id': '5a95e683-08ad-424e-a441-1d1aec52c02c'}],\n",
       " 'ObjectName': 'MailItemsAccessed',\n",
       " 'ObjectType': 'Task',\n",
       " 'ObjectId': '',\n",
       " 'ReportId': '106830890_20893_699e0b10-1c53-403e-976f-ce0847a92b44',\n",
       " 'AdditionalFields': {'IsSatelliteProvider': False},\n",
       " 'UserId': '',\n",
       " 'Permissions': None,\n",
       " 'PermissionsAddedTo': '',\n",
       " 'RawEventData': {'OrganizationId': '00000000-0000-0000-0000-000000000000',\n",
       "  'CreationTime': '2021-08-02T13:32:07.0000000Z',\n",
       "  'RecordType': 50,\n",
       "  'Operation': 'MailItemsAccessed',\n",
       "  'UserType': 0,\n",
       "  'Workload': 'Exchange',\n",
       "  'Version': 1,\n",
       "  'UserKey': '100320015858B802',\n",
       "  'UserId': 'pgustavo@simulandlabs.com',\n",
       "  'OriginatingServer': 'AB1CD23EF4567 (15.20.4200.000)\\r\\n',\n",
       "  'InternalLogonType': 0,\n",
       "  'OrganizationName': 'simulandlabs.onmicrosoft.com',\n",
       "  'ClientInfoString': 'Client=REST;;',\n",
       "  'MailboxOwnerSid': 'S-1-5-21-1825954961-3338807533-2873504967-26087451',\n",
       "  'ClientIPAddress': '1.2.3.4',\n",
       "  'MailboxOwnerUPN': 'pgustavo@simulandlabs.com',\n",
       "  'ExternalAccess': False,\n",
       "  'ResultStatus': 'Succeeded',\n",
       "  'Id': '699e0b10-1c53-403e-976f-ce0847a92b44',\n",
       "  'LogonUserSid': 'S-1-5-21-1825954961-3338807533-2873504967-26087451',\n",
       "  'MailboxGuid': 'd0c5f8ae-9ed7-4e46-bfdf-ea1460f5a31b',\n",
       "  'LogonType': 0,\n",
       "  'OperationProperties': ['@{Value=Bind; Name=MailAccessType}',\n",
       "   '@{Value=False; Name=IsThrottled}'],\n",
       "  'OperationCount': 7,\n",
       "  'AppId': '00000003-0000-0000-c000-000000000000',\n",
       "  'Folders': ['@{Id=LgAAAAAM7KyTTmWeRac2KXBEz/7aAQARGHK+grzLTpRJraC1QR6kAAAAAAEMAAAB; Path=\\\\Inbox; FolderItems=System.Object[]}'],\n",
       "  'ClientAppId': '5a95e683-08ad-424e-a441-1d1aec52c02c'},\n",
       " 'spnID': '',\n",
       " 'rawData': {'OrganizationId': '00000000-0000-0000-0000-000000000000',\n",
       "  'CreationTime': '2021-08-02T13:32:07.0000000Z',\n",
       "  'RecordType': 50,\n",
       "  'Operation': 'MailItemsAccessed',\n",
       "  'UserType': 0,\n",
       "  'Workload': 'Exchange',\n",
       "  'Version': 1,\n",
       "  'UserKey': '100320015858B802',\n",
       "  'UserId': 'pgustavo@simulandlabs.com',\n",
       "  'OriginatingServer': 'AB1CD23EF4567 (15.20.4200.000)\\r\\n',\n",
       "  'InternalLogonType': 0,\n",
       "  'OrganizationName': 'simulandlabs.onmicrosoft.com',\n",
       "  'ClientInfoString': 'Client=REST;;',\n",
       "  'MailboxOwnerSid': 'S-1-5-21-1825954961-3338807533-2873504967-26087451',\n",
       "  'ClientIPAddress': '1.2.3.4',\n",
       "  'MailboxOwnerUPN': 'pgustavo@simulandlabs.com',\n",
       "  'ExternalAccess': False,\n",
       "  'ResultStatus': 'Succeeded',\n",
       "  'Id': '699e0b10-1c53-403e-976f-ce0847a92b44',\n",
       "  'LogonUserSid': 'S-1-5-21-1825954961-3338807533-2873504967-26087451',\n",
       "  'MailboxGuid': 'd0c5f8ae-9ed7-4e46-bfdf-ea1460f5a31b',\n",
       "  'LogonType': 0,\n",
       "  'OperationProperties': ['@{Value=Bind; Name=MailAccessType}',\n",
       "   '@{Value=False; Name=IsThrottled}'],\n",
       "  'OperationCount': 7,\n",
       "  'AppId': '00000003-0000-0000-c000-000000000000',\n",
       "  'Folders': ['@{Id=LgAAAAAM7KyTTmWeRac2KXBEz/7aAQARGHK+grzLTpRJraC1QR6kAAAAAAEMAAAB; Path=\\\\Inbox; FolderItems=System.Object[]}'],\n",
       "  'ClientAppId': '5a95e683-08ad-424e-a441-1d1aec52c02c'},\n",
       " 'AppId': '00000003-0000-0000-c000-000000000000',\n",
       " 'OAuthAppId': '5a95e683-08ad-424e-a441-1d1aec52c02c',\n",
       " 'TargetAccountUpn': '',\n",
       " 'TargetAccountDisplayName': '',\n",
       " 'TargetDeviceName': '',\n",
       " 'DestinationDeviceName': '',\n",
       " 'DestinationIPAddress': '',\n",
       " 'DestinationPort': None,\n",
       " 'Protocol': '',\n",
       " 'AccountName': '',\n",
       " 'AccountDomain': '',\n",
       " 'AccountUpn': '',\n",
       " 'AccountSid': '',\n",
       " 'DeviceName': '',\n",
       " 'Port': None,\n",
       " 'Location': ''}"
      ]
     },
     "execution_count": 32,
     "metadata": {},
     "output_type": "execute_result"
    }
   ],
   "source": [
    "json_data[7]"
   ]
  },
  {
   "cell_type": "markdown",
   "metadata": {},
   "source": [
    "## Tokenization"
   ]
  },
  {
   "cell_type": "code",
   "execution_count": 45,
   "metadata": {},
   "outputs": [],
   "source": [
    "from transformers import AutoTokenizer\n",
    "\n",
    "tokenizer = AutoTokenizer.from_pretrained(\"google/bigbird-roberta-base\")\n",
    "\n",
    "# Tokenize an event log\n",
    "tokens = tokenizer.tokenize(json.dumps(json_data[7]))"
   ]
  },
  {
   "cell_type": "markdown",
   "metadata": {},
   "source": [
    "### Raw Example Log - Index 7\n",
    "\n",
    "{\"Timestamp\":\"2021-08-02T13:32:07Z\",\"ActionType\":\"MailItemsAccessed\",\"Application\":\"Microsoft Exchange Online\",\"ApplicationId\":20893,\"AccountObjectId\":\"5a95e683-08ad-424e-a441-1d1aec52c02c\",\"AccountDisplayName\":\"SimuLandApp\",\"IsAdminOperation\":0,\"DeviceType\":\"Other\",\"OSPlatform\":\"Unknown\",\"IPAddress\":\"1.2.3.4\",\"IsAnonymousProxy\":0,\"CountryCode\":\"US\",\"City\":\"chicago\",\"ISP\":\"Microsoft 365 Common and Office Online server\",\"UserAgent_dynamic\":null,\"UserAgent_string\":\"Client=REST;;\",\"ActivityType\":\"Run\",\"ActivityObjects\":[{\"ServiceObjectType\":\"Session ID\",\"Type\":\"Structured object\",\"Role\":\"Parameter\"},{\"Type\":\"Task\",\"Role\":\"Target object\",\"Name\":\"MailItemsAccessed\"},{\"Type\":\"Property\",\"Role\":\"Parameter\",\"Name\":\"MailAccessType\",\"Value\":\"Bind\"},{\"Type\":\"Property\",\"Role\":\"Parameter\",\"Name\":\"IsThrottled\",\"Value\":\"False\"},{\"ApplicationInstance\":0,\"ApplicationId\":11161,\"Type\":\"User\",\"Role\":\"Parameter\",\"Name\":\"Gustavo Pedro\",\"Id\":\"aead923d-498b-4f64-a66c-2af91447a8b6\"},{\"ApplicationInstance\":0,\"ApplicationId\":11161,\"Type\":\"Account\",\"Role\":\"Actor\",\"Name\":\"SimuLandApp\",\"Id\":\"5a95e683-08ad-424e-a441-1d1aec52c02c\"}],\"ObjectName\":\"MailItemsAccessed\",\"ObjectType\":\"Task\",\"ObjectId\":\"\",\"ReportId\":\"106830890_20893_699e0b10-1c53-403e-976f-ce0847a92b44\",\"AdditionalFields\":{\"IsSatelliteProvider\":false},\"UserId\":\"\",\"Permissions\":null,\"PermissionsAddedTo\":\"\",\"RawEventData\":{\"OrganizationId\":\"00000000-0000-0000-0000-000000000000\",\"CreationTime\":\"2021-08-02T13:32:07.0000000Z\",\"RecordType\":50,\"Operation\":\"MailItemsAccessed\",\"UserType\":0,\"Workload\":\"Exchange\",\"Version\":1,\"UserKey\":\"100320015858B802\",\"UserId\":\"pgustavo@simulandlabs.com\",\"OriginatingServer\":\"AB1CD23EF4567 (15.20.4200.000)\\r\\n\",\"InternalLogonType\":0,\"OrganizationName\":\"simulandlabs.onmicrosoft.com\",\"ClientInfoString\":\"Client=REST;;\",\"MailboxOwnerSid\":\"S-1-5-21-1825954961-3338807533-2873504967-26087451\",\"ClientIPAddress\":\"1.2.3.4\",\"MailboxOwnerUPN\":\"pgustavo@simulandlabs.com\",\"ExternalAccess\":false,\"ResultStatus\":\"Succeeded\",\"Id\":\"699e0b10-1c53-403e-976f-ce0847a92b44\",\"LogonUserSid\":\"S-1-5-21-1825954961-3338807533-2873504967-26087451\",\"MailboxGuid\":\"d0c5f8ae-9ed7-4e46-bfdf-ea1460f5a31b\",\"LogonType\":0,\"OperationProperties\":[\"@{Value=Bind; Name=MailAccessType}\",\"@{Value=False; Name=IsThrottled}\"],\"OperationCount\":7,\"AppId\":\"00000003-0000-0000-c000-000000000000\",\"Folders\":[\"@{Id=LgAAAAAM7KyTTmWeRac2KXBEz/7aAQARGHK+grzLTpRJraC1QR6kAAAAAAEMAAAB; Path=\\\\Inbox; FolderItems=System.Object[]}\"],\"ClientAppId\":\"5a95e683-08ad-424e-a441-1d1aec52c02c\"},\"spnID\":\"\",\"rawData\":{\"OrganizationId\":\"00000000-0000-0000-0000-000000000000\",\"CreationTime\":\"2021-08-02T13:32:07.0000000Z\",\"RecordType\":50,\"Operation\":\"MailItemsAccessed\",\"UserType\":0,\"Workload\":\"Exchange\",\"Version\":1,\"UserKey\":\"100320015858B802\",\"UserId\":\"pgustavo@simulandlabs.com\",\"OriginatingServer\":\"AB1CD23EF4567 (15.20.4200.000)\\r\\n\",\"InternalLogonType\":0,\"OrganizationName\":\"simulandlabs.onmicrosoft.com\",\"ClientInfoString\":\"Client=REST;;\",\"MailboxOwnerSid\":\"S-1-5-21-1825954961-3338807533-2873504967-26087451\",\"ClientIPAddress\":\"1.2.3.4\",\"MailboxOwnerUPN\":\"pgustavo@simulandlabs.com\",\"ExternalAccess\":false,\"ResultStatus\":\"Succeeded\",\"Id\":\"699e0b10-1c53-403e-976f-ce0847a92b44\",\"LogonUserSid\":\"S-1-5-21-1825954961-3338807533-2873504967-26087451\",\"MailboxGuid\":\"d0c5f8ae-9ed7-4e46-bfdf-ea1460f5a31b\",\"LogonType\":0,\"OperationProperties\":[\"@{Value=Bind; Name=MailAccessType}\",\"@{Value=False; Name=IsThrottled}\"],\"OperationCount\":7,\"AppId\":\"00000003-0000-0000-c000-000000000000\",\"Folders\":[\"@{Id=LgAAAAAM7KyTTmWeRac2KXBEz/7aAQARGHK+grzLTpRJraC1QR6kAAAAAAEMAAAB; Path=\\\\Inbox; FolderItems=System.Object[]}\"],\"ClientAppId\":\"5a95e683-08ad-424e-a441-1d1aec52c02c\"},\"AppId\":\"00000003-0000-0000-c000-000000000000\",\"OAuthAppId\":\"5a95e683-08ad-424e-a441-1d1aec52c02c\",\"TargetAccountUpn\":\"\",\"TargetAccountDisplayName\":\"\",\"TargetDeviceName\":\"\",\"DestinationDeviceName\":\"\",\"DestinationIPAddress\":\"\",\"DestinationPort\":null,\"Protocol\":\"\",\"AccountName\":\"\",\"AccountDomain\":\"\",\"AccountUpn\":\"\",\"AccountSid\":\"\",\"DeviceName\":\"\",\"Port\":null,\"Location\":\"\"}"
   ]
  },
  {
   "cell_type": "code",
   "execution_count": 46,
   "metadata": {},
   "outputs": [
    {
     "data": {
      "text/plain": [
       "['▁{\"', 'Tim', 'estamp', '\":', '▁\"', '2', '021', '-', '08', '-']"
      ]
     },
     "execution_count": 46,
     "metadata": {},
     "output_type": "execute_result"
    }
   ],
   "source": [
    "tokens[:10]"
   ]
  },
  {
   "cell_type": "code",
   "execution_count": 47,
   "metadata": {},
   "outputs": [],
   "source": [
    "import torch\n",
    "\n",
    "# Convert tokens to input IDs\n",
    "input_ids = tokenizer.convert_tokens_to_ids(tokens)\n",
    "\n",
    "# Create a PyTorch tensor\n",
    "input_ids = torch.tensor(input_ids).unsqueeze(0)  # Add a batch dimension"
   ]
  },
  {
   "cell_type": "markdown",
   "metadata": {},
   "source": [
    "## Embeddings"
   ]
  },
  {
   "cell_type": "code",
   "execution_count": 49,
   "metadata": {},
   "outputs": [],
   "source": [
    "from transformers import BigBirdModel\n",
    "\n",
    "model = BigBirdModel.from_pretrained(\"google/bigbird-roberta-base\")\n",
    "\n",
    "# Get BigBird Embeddings\n",
    "with torch.no_grad():\n",
    "    outputs = model(input_ids)\n",
    "\n",
    "embeddings = outputs.last_hidden_state"
   ]
  },
  {
   "cell_type": "code",
   "execution_count": 55,
   "metadata": {},
   "outputs": [
    {
     "data": {
      "text/plain": [
       "tensor([[[ 0.1869,  0.0935, -0.0685,  ..., -0.0211, -0.1009, -0.0862],\n",
       "         [ 0.0773, -0.1688, -0.1072,  ...,  0.1626,  0.1574,  0.1664],\n",
       "         [ 0.1790, -0.0747,  0.0009,  ...,  0.2164,  0.1874,  0.1451],\n",
       "         ...,\n",
       "         [ 0.1302, -0.0763, -0.1211,  ...,  0.0049, -0.3677, -0.0096],\n",
       "         [ 0.3301, -0.5417, -0.3299,  ..., -0.2153, -0.4639, -0.1000],\n",
       "         [ 0.1222, -0.2770, -0.0157,  ...,  0.0253, -0.0452,  0.0553]]])"
      ]
     },
     "execution_count": 55,
     "metadata": {},
     "output_type": "execute_result"
    }
   ],
   "source": [
    "embeddings"
   ]
  },
  {
   "cell_type": "code",
   "execution_count": null,
   "metadata": {},
   "outputs": [],
   "source": []
  }
 ],
 "metadata": {
  "kernelspec": {
   "display_name": "Python 3 (ipykernel)",
   "language": "python",
   "name": "python3"
  },
  "language_info": {
   "codemirror_mode": {
    "name": "ipython",
    "version": 3
   },
   "file_extension": ".py",
   "mimetype": "text/x-python",
   "name": "python",
   "nbconvert_exporter": "python",
   "pygments_lexer": "ipython3",
   "version": "3.11.3"
  }
 },
 "nbformat": 4,
 "nbformat_minor": 2
}
